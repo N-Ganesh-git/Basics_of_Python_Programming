{
 "cells": [
  {
   "cell_type": "markdown",
   "id": "3ec61b08-9edc-42c3-91a5-53bc344608ff",
   "metadata": {},
   "source": [
    "# Python Programming"
   ]
  },
  {
   "cell_type": "markdown",
   "id": "c4375f54-5e21-4e07-9050-5fbe60fdbf81",
   "metadata": {},
   "source": [
    "## Introduction to Python"
   ]
  },
  {
   "cell_type": "markdown",
   "id": "969520a2-437e-42d9-b2b8-9750c10aba02",
   "metadata": {},
   "source": [
    "* Python is a high-level, interpreted programming language known for its readability, simplicity, and broad applicability.\n",
    "It was created by Guido van Rossum and first released in 1991.\n",
    "\n",
    "* Why Python?\n",
    "    * Easy to learn\n",
    "    * Easy to maintain\n",
    "    * A broad standard library\n",
    "    * Easy to read\n",
    "    * Data memory allocation(DMA)\n",
    "        * Static  -> Fixed memory allocation\n",
    "        * Dynamic -> Changing memory allocation\n",
    "\n",
    "* Applications:\n",
    "    * Web applications\n",
    "    * Scientific and numeric computing\n",
    "    * Software prototype\n",
    "    * Good language to teach programming"
   ]
  },
  {
   "cell_type": "markdown",
   "id": "31d585fe-1aeb-4f27-8b23-4b36ab1f1262",
   "metadata": {},
   "source": [
    "## Data types , variables and Keywords"
   ]
  },
  {
   "cell_type": "markdown",
   "id": "38eea6b5-bb1e-4ab7-9995-a35835ab724c",
   "metadata": {},
   "source": [
    "### Data types"
   ]
  },
  {
   "cell_type": "markdown",
   "id": "0a26ea9d-1879-4126-b5fb-cd22c8cc044e",
   "metadata": {
    "jp-MarkdownHeadingCollapsed": true
   },
   "source": [
    "* Data types specify what kind of value an object holds. \n",
    "\n",
    "* Types of Data types\n",
    "     * Number data type:\n",
    "         * Integer (int), \n",
    "         * Floating Point (float),\n",
    "         * Complex Numbers(complex)\n",
    "     * String (str)\n",
    "     * Boolean (bool) \n",
    "     * List (list)\n",
    "     * Tuple (tuple) \n",
    "     * Set (set) \n",
    "     * Dictionary (dict)   "
   ]
  },
  {
   "cell_type": "code",
   "execution_count": 10,
   "id": "6ed2f2b2-053c-4b8c-8d73-d2cc583239f9",
   "metadata": {},
   "outputs": [
    {
     "name": "stdout",
     "output_type": "stream",
     "text": [
      "<class 'int'>\n",
      "<class 'float'>\n",
      "<class 'complex'>\n",
      "<class 'str'>\n",
      "<class 'bool'>\n",
      "<class 'list'>\n",
      "<class 'tuple'>\n",
      "<class 'set'>\n",
      "<class 'dict'>\n"
     ]
    }
   ],
   "source": [
    "#To find a data type of a variable\n",
    "\n",
    "a=1\n",
    "b=12.12\n",
    "c=4+5j #j or J can be used\n",
    "d='Ganesh'\n",
    "e=True\n",
    "f=[1,2,3,4]\n",
    "g=(1,2,3,4)\n",
    "h={1,2,3,4}\n",
    "i={1:10,2:20,3:30}\n",
    "\n",
    "print(type(a))\n",
    "print(type(b))\n",
    "print(type(c))\n",
    "print(type(d))\n",
    "print(type(e))\n",
    "print(type(f))\n",
    "print(type(g))\n",
    "print(type(h))\n",
    "print(type(i))"
   ]
  },
  {
   "cell_type": "markdown",
   "id": "192a13d1-dcca-4cff-9aa3-e6fbfcff1789",
   "metadata": {},
   "source": [
    "###  Variables"
   ]
  },
  {
   "cell_type": "markdown",
   "id": "971c8c6a-32cb-4d1e-90c3-da1128312608",
   "metadata": {},
   "source": [
    "* Variables are names that are used to refer to data stored in memory. \n",
    "* In Python, you don’t need to explicitly declare the type of a variable; it is inferred from the value assigned.\n",
    "\n",
    "          x = 10               # An integer\n",
    "          y = 3.14             # A floating-point number\n",
    "          name = \"Alice\"       # A string\n",
    "          is_active = True     # A boolean"
   ]
  },
  {
   "cell_type": "markdown",
   "id": "9a5d53b4-03a7-41a2-a519-419e8f4b7714",
   "metadata": {},
   "source": [
    "### Keywords"
   ]
  },
  {
   "cell_type": "markdown",
   "id": "e0ab220d-1f15-41cb-9837-25c60b7d6986",
   "metadata": {},
   "source": [
    "* Keywords are reserved words in Python that have special meanings and cannot be used as identifiers.\n",
    "* They are used to define the syntax and structure of the Python language.\n",
    "* There are 36 keywords in python.But according to the current version(python 3.14),there are 33 keywords in python."
   ]
  },
  {
   "cell_type": "code",
   "execution_count": 39,
   "id": "0b940ed7-fc4a-465d-826a-034944aa8e1f",
   "metadata": {},
   "outputs": [
    {
     "name": "stdout",
     "output_type": "stream",
     "text": [
      "['False', 'None', 'True', 'and', 'as', 'assert', 'async', 'await', 'break', 'class', 'continue', 'def', 'del', 'elif', 'else', 'except', 'finally', 'for', 'from', 'global', 'if', 'import', 'in', 'is', 'lambda', 'nonlocal', 'not', 'or', 'pass', 'raise', 'return', 'try', 'while', 'with', 'yield']\n"
     ]
    }
   ],
   "source": [
    "#keywords in python\n",
    "\n",
    "import keyword\n",
    "print(keyword.kwlist)"
   ]
  },
  {
   "cell_type": "markdown",
   "id": "95a96bcc-3c39-4570-b5b0-c4f6437772be",
   "metadata": {},
   "source": [
    "## Basic Implementation Of Python"
   ]
  },
  {
   "cell_type": "code",
   "execution_count": 126,
   "id": "6b73895c-4d73-4ccc-a4ff-c60ae5fa036d",
   "metadata": {},
   "outputs": [
    {
     "name": "stdout",
     "output_type": "stream",
     "text": [
      "Hello World\n"
     ]
    }
   ],
   "source": [
    "#Ex:1 \n",
    "#Write a program to print \"Hello World\"\n",
    "\n",
    "print(\"Hello World\")"
   ]
  },
  {
   "cell_type": "code",
   "execution_count": 124,
   "id": "d4c909a4-88e6-4d76-bffa-95fb9dde6cba",
   "metadata": {},
   "outputs": [
    {
     "name": "stdin",
     "output_type": "stream",
     "text": [
      " 12\n"
     ]
    },
    {
     "name": "stdout",
     "output_type": "stream",
     "text": [
      "Integer Input: 12\n"
     ]
    }
   ],
   "source": [
    "#Ex:2 \n",
    "#Write a program to accept Integer input from user and display the output\n",
    "\n",
    "a=int(input())\n",
    "print(\"Integer Input:\",a)"
   ]
  },
  {
   "cell_type": "code",
   "execution_count": 122,
   "id": "a25a3080-0403-468f-ac71-81ba73f178e0",
   "metadata": {},
   "outputs": [
    {
     "name": "stdin",
     "output_type": "stream",
     "text": [
      " gan\n"
     ]
    },
    {
     "name": "stdout",
     "output_type": "stream",
     "text": [
      "Char Input: gan\n"
     ]
    }
   ],
   "source": [
    "#Ex:3 \n",
    "#Write a program to accept Char input from user and display the output\n",
    "\n",
    "X=str(input())\n",
    "print(\"Char Input:\",X)"
   ]
  },
  {
   "cell_type": "code",
   "execution_count": 120,
   "id": "59ad665c-47d7-472f-aaf2-f4cab2213e7e",
   "metadata": {},
   "outputs": [
    {
     "name": "stdin",
     "output_type": "stream",
     "text": [
      " 12.2\n"
     ]
    },
    {
     "name": "stdout",
     "output_type": "stream",
     "text": [
      "Float Input: 12.2\n"
     ]
    }
   ],
   "source": [
    "#Ex:4 \n",
    "#Write a program to accept Float input from user and display the output\n",
    "\n",
    "X=float(input())\n",
    "print(\"Float Input:\",X)"
   ]
  },
  {
   "cell_type": "code",
   "execution_count": 118,
   "id": "3be54b29-af8d-4318-b2eb-07d727778fe2",
   "metadata": {},
   "outputs": [
    {
     "name": "stdin",
     "output_type": "stream",
     "text": [
      " 12.22\n"
     ]
    },
    {
     "name": "stdout",
     "output_type": "stream",
     "text": [
      "Float Input: 12.22\n"
     ]
    }
   ],
   "source": [
    "#Ex:5 \n",
    "#Write a program to accept Float input from user and display the output with Two precision\n",
    "\n",
    "x=float(input())\n",
    "print('Float Input: %.2f' %x) "
   ]
  },
  {
   "cell_type": "code",
   "execution_count": 128,
   "id": "2d7621be-4a86-4bcf-81c0-f322e97a3c14",
   "metadata": {},
   "outputs": [
    {
     "name": "stdin",
     "output_type": "stream",
     "text": [
      " g\n"
     ]
    },
    {
     "name": "stdout",
     "output_type": "stream",
     "text": [
      "ASCII: 103\n"
     ]
    }
   ],
   "source": [
    "#Ex:6 \n",
    "#Write a program to accept Char input from user and display the ASCII value of it\n",
    "\n",
    "X=str(input())\n",
    "print(\"ASCII:\",ord(X))"
   ]
  },
  {
   "cell_type": "code",
   "execution_count": 132,
   "id": "73bce8e9-8591-4e30-9882-bfe554c5ecd9",
   "metadata": {},
   "outputs": [
    {
     "name": "stdin",
     "output_type": "stream",
     "text": [
      " 48\n"
     ]
    },
    {
     "name": "stdout",
     "output_type": "stream",
     "text": [
      "ASCII: 0\n"
     ]
    }
   ],
   "source": [
    "#Ex:7 \n",
    "#Write a program to accept Integer(ASCII) input from user and display the char value of it\n",
    "\n",
    "X=int(input())\n",
    "print(\"ASCII:\",chr(X))"
   ]
  },
  {
   "cell_type": "code",
   "execution_count": 136,
   "id": "19022ff4-b2a5-429a-b951-29ba7ce6edec",
   "metadata": {},
   "outputs": [
    {
     "name": "stdin",
     "output_type": "stream",
     "text": [
      "Enter a Dividend: 2\n",
      "Enter a Divisor: 1\n"
     ]
    },
    {
     "name": "stdout",
     "output_type": "stream",
     "text": [
      "Quotient: 2\n",
      "Remainder: 0\n"
     ]
    }
   ],
   "source": [
    "#Ex:8 \n",
    "#Write a program to print Quotient and Remainder\n",
    "\n",
    "A=int(input('Enter a Dividend:'))\n",
    "B=int(input('Enter a Divisor:'))\n",
    "print('Quotient:',A//B) #print('Quotient:',int(A/B)) to print without float points\n",
    "print('Remainder:',A%B)"
   ]
  },
  {
   "cell_type": "code",
   "execution_count": 138,
   "id": "d2511eeb-60cd-4cd8-ac87-58be9ccf30b7",
   "metadata": {},
   "outputs": [
    {
     "name": "stdin",
     "output_type": "stream",
     "text": [
      "Enter a Base: 2\n",
      "Enter a Exponent: 2\n"
     ]
    },
    {
     "name": "stdout",
     "output_type": "stream",
     "text": [
      "Output 4\n"
     ]
    }
   ],
   "source": [
    "#Ex:9 \n",
    "#Write a program to accept base and power as input and print the result\n",
    "\n",
    "A=int(input('Enter a Base:'))\n",
    "B=int(input('Enter a Exponent:'))\n",
    "print('Output',A**B)"
   ]
  },
  {
   "cell_type": "code",
   "execution_count": 144,
   "id": "4dc8c04c-6562-44ec-bb02-b118ad075060",
   "metadata": {},
   "outputs": [
    {
     "name": "stdin",
     "output_type": "stream",
     "text": [
      " 22\n"
     ]
    },
    {
     "name": "stdout",
     "output_type": "stream",
     "text": [
      "Integer Input 22\n",
      "<class 'int'>\n"
     ]
    },
    {
     "name": "stdin",
     "output_type": "stream",
     "text": [
      " 12.22\n"
     ]
    },
    {
     "name": "stdout",
     "output_type": "stream",
     "text": [
      "Float Input:  12.22\n",
      "<class 'float'>\n"
     ]
    },
    {
     "name": "stdin",
     "output_type": "stream",
     "text": [
      " Ganesh\n"
     ]
    },
    {
     "name": "stdout",
     "output_type": "stream",
     "text": [
      "Char Input: Ganesh\n",
      "<class 'str'>\n"
     ]
    }
   ],
   "source": [
    "#Ex no: 10 \n",
    "#To get 3 different inputs from the user \n",
    "\n",
    "num=int(input())\n",
    "print('Integer Input', num) \n",
    "print(type(num))\n",
    "num1=float(input())\n",
    "print('Float Input: ',num1)\n",
    "print(type(num1))\n",
    "num2=str(input())\n",
    "print('Char Input:',num2) \n",
    "print(type(num2))"
   ]
  },
  {
   "cell_type": "code",
   "execution_count": 146,
   "id": "a6d3e30e-5884-4694-b7ba-55a172ab2e81",
   "metadata": {},
   "outputs": [
    {
     "name": "stdin",
     "output_type": "stream",
     "text": [
      "Enter your name:  Ganesh\n"
     ]
    },
    {
     "name": "stdout",
     "output_type": "stream",
     "text": [
      "Name:  Ganesh\n"
     ]
    },
    {
     "name": "stdin",
     "output_type": "stream",
     "text": [
      "Enter your age:  20\n"
     ]
    },
    {
     "name": "stdout",
     "output_type": "stream",
     "text": [
      "Age:  20\n"
     ]
    },
    {
     "name": "stdin",
     "output_type": "stream",
     "text": [
      "Enter your Roll no:  116\n"
     ]
    },
    {
     "name": "stdout",
     "output_type": "stream",
     "text": [
      "Roll no:  116\n"
     ]
    },
    {
     "name": "stdin",
     "output_type": "stream",
     "text": [
      "Enter your place:  Coimbatore\n"
     ]
    },
    {
     "name": "stdout",
     "output_type": "stream",
     "text": [
      "Place:  Coimbatore\n"
     ]
    },
    {
     "name": "stdin",
     "output_type": "stream",
     "text": [
      "Enter your Phone number:  6383502208\n"
     ]
    },
    {
     "name": "stdout",
     "output_type": "stream",
     "text": [
      "Phone number:  6383502208\n"
     ]
    }
   ],
   "source": [
    "#Ex no:11 \n",
    "#To get information about id card\n",
    "\n",
    "name=str(input('Enter your name: '))\n",
    "print('Name: ', name)\n",
    "age=int(input('Enter your age: '))\n",
    "print('Age: ', age)\n",
    "roll_no=int(input('Enter your Roll no: '))\n",
    "print('Roll no: ', roll_no)\n",
    "location=str(input('Enter your place: '))\n",
    "print('Place: ',location)\n",
    "phone_no=int(input('Enter your Phone number: '))\n",
    "print('Phone number: ', phone_no)"
   ]
  },
  {
   "cell_type": "markdown",
   "id": "60fbc61a-ba48-4e07-929e-65e8ec774b2f",
   "metadata": {},
   "source": [
    "## Conditional Statements"
   ]
  },
  {
   "cell_type": "markdown",
   "id": "b655aae5-ee71-46cf-b55b-f69f79b6c37d",
   "metadata": {},
   "source": [
    "* Conditional statements in Python allow you to execute certain blocks of code based on specific conditions.\n",
    "\n",
    "* Real time examples:\n",
    "    * Sign in process\n",
    "    * ATM pin\n",
    "    * Phone password\n",
    "    * OTP verification\n",
    "    * Add/Edit Bank Account\n",
    "\n",
    "* Types of Conditional Statments:\n",
    "    * if Statement\n",
    "    * if..else statement\n",
    "    * Nested if statement\n",
    "    * if..elif Statements"
   ]
  },
  {
   "cell_type": "markdown",
   "id": "39fd895a-6a4f-47ad-83c6-400965758cbf",
   "metadata": {},
   "source": [
    "###  if statment      "
   ]
  },
  {
   "cell_type": "markdown",
   "id": "538c1489-481f-4eba-b6d0-7cb262b81498",
   "metadata": {},
   "source": [
    "* If a condition is true,performs a function.If false, it simply skips it.\n",
    "\n",
    "* Syntax:\n",
    "    * if(condition):\n",
    "        * statments  "
   ]
  },
  {
   "cell_type": "code",
   "execution_count": 156,
   "id": "4ae95531-b62f-4af5-88fa-cc3be9d90738",
   "metadata": {},
   "outputs": [
    {
     "name": "stdin",
     "output_type": "stream",
     "text": [
      "Enter your age: 22\n"
     ]
    },
    {
     "name": "stdout",
     "output_type": "stream",
     "text": [
      "Eligible to vote\n"
     ]
    }
   ],
   "source": [
    "#if conditions \n",
    "#TO check Whether the person is eligible to vote\n",
    "\n",
    "age=int(input('Enter your age:'))\n",
    "if age>18:\n",
    "    print(\"Eligible to vote\")"
   ]
  },
  {
   "cell_type": "markdown",
   "id": "95ce2634-9d2f-4fe5-a1ef-0789c5f862ee",
   "metadata": {},
   "source": [
    "###  if..else Statment"
   ]
  },
  {
   "cell_type": "markdown",
   "id": "baa2b754-6713-4269-b1ca-5d24ccd8b325",
   "metadata": {},
   "source": [
    "* This statment runs different set of statments depending on whether an expression is true or false\n",
    "\n",
    "* Syntax:\n",
    "    * if (condition):\n",
    "        * statements\n",
    "    * else:\n",
    "        * statments"
   ]
  },
  {
   "cell_type": "code",
   "execution_count": 158,
   "id": "a918dc7d-9f02-4555-91eb-7b57c0dd446b",
   "metadata": {},
   "outputs": [
    {
     "name": "stdin",
     "output_type": "stream",
     "text": [
      "Enter a number: 2\n"
     ]
    },
    {
     "name": "stdout",
     "output_type": "stream",
     "text": [
      "The given number is even\n"
     ]
    }
   ],
   "source": [
    "#if else conditions \n",
    "#To check whether the given number is odd or even\n",
    "\n",
    "a=int(input('Enter a number:'))\n",
    "if a%2==0:\n",
    "    print(\"The given number is even\")\n",
    "else:\n",
    "    print(\"The given number is odd\")"
   ]
  },
  {
   "cell_type": "markdown",
   "id": "69e8233f-21a8-47ec-983a-037cd8c36ff7",
   "metadata": {},
   "source": [
    "###  Nested if\n"
   ]
  },
  {
   "cell_type": "markdown",
   "id": "a89c3cb2-893e-435c-9782-9db462502eac",
   "metadata": {},
   "source": [
    "* It means  an if statment inside another if statment.We can place an if statment inside another if statment\n",
    "\n",
    "* Syntax:\n",
    "    * if(condition):\n",
    "        * if(condition):\n",
    "            * statments\n",
    "        * else:\n",
    "            * statments"
   ]
  },
  {
   "cell_type": "code",
   "execution_count": 160,
   "id": "72d8d5f7-890f-44de-be82-c1c60b3c803a",
   "metadata": {},
   "outputs": [
    {
     "name": "stdin",
     "output_type": "stream",
     "text": [
      "Enter your age : 20\n",
      "Enter your weight : 60\n"
     ]
    },
    {
     "name": "stdout",
     "output_type": "stream",
     "text": [
      "Eligible\n"
     ]
    }
   ],
   "source": [
    "#Nested if \n",
    "#To check whether the person is eligible to donate blood\n",
    "\n",
    "age=int(input('Enter your age :'))   \n",
    "if age>16:\n",
    "    weight=int(input('Enter your weight :'))\n",
    "    if weight>45:\n",
    "        print('Eligible')\n",
    "else:\n",
    "    print('not Eligible')  "
   ]
  },
  {
   "cell_type": "markdown",
   "id": "bece9b35-91d1-4179-a294-6d76b3723c46",
   "metadata": {},
   "source": [
    "### if..elif statment"
   ]
  },
  {
   "cell_type": "markdown",
   "id": "2cffb088-d63e-40c2-b164-f9f4f299217e",
   "metadata": {},
   "source": [
    "* When one condition is true,that block of code alone will be executed,and rest of a ladder is bypassed\n",
    "\n",
    "* syntax:\n",
    "    * if(condition):\n",
    "        * statment\n",
    "    * elif(condition):\n",
    "        * statment\n",
    "    * else:\n",
    "        * statment"
   ]
  },
  {
   "cell_type": "code",
   "execution_count": 164,
   "id": "b913e2b4-bb34-42fa-82a5-ba643d984d2b",
   "metadata": {},
   "outputs": [
    {
     "name": "stdin",
     "output_type": "stream",
     "text": [
      "Enter your mark: 80\n"
     ]
    },
    {
     "name": "stdout",
     "output_type": "stream",
     "text": [
      "B Grade\n"
     ]
    }
   ],
   "source": [
    "#if else if statment \n",
    "#To check the grade of a person\n",
    "\n",
    "marks=int(input('Enter your mark:'))\n",
    "if marks>=90:\n",
    "    print('A grade')\n",
    "elif marks>=80:\n",
    "    print('B Grade')\n",
    "elif marks>=70:\n",
    "    print('C grade')\n",
    "elif marks>=60:\n",
    "    print('D Grade')\n",
    "else:\n",
    "    print('You Failed')"
   ]
  },
  {
   "cell_type": "markdown",
   "id": "06b1c083-e36e-4dd6-b3b9-6e1194936abe",
   "metadata": {},
   "source": [
    "### Excercises"
   ]
  },
  {
   "cell_type": "code",
   "execution_count": 86,
   "id": "f23037e2-b7fa-4a6e-a297-4c40c469ad13",
   "metadata": {},
   "outputs": [
    {
     "name": "stdin",
     "output_type": "stream",
     "text": [
      " 12\n",
      " 21\n"
     ]
    },
    {
     "name": "stdout",
     "output_type": "stream",
     "text": [
      "21\n",
      "12\n"
     ]
    }
   ],
   "source": [
    "#Ex no:1 \n",
    "#Write a program to swap two variable's value without using a temporary variable\n",
    "\n",
    "x=int(input())\n",
    "y=int(input())\n",
    "x,y=y,x\n",
    "print(x)\n",
    "print(y)"
   ]
  },
  {
   "cell_type": "code",
   "execution_count": 166,
   "id": "4ef7d10a-7d59-44df-b2b6-f9befe0b797a",
   "metadata": {},
   "outputs": [
    {
     "name": "stdin",
     "output_type": "stream",
     "text": [
      "Enter a number: 2\n"
     ]
    },
    {
     "name": "stdout",
     "output_type": "stream",
     "text": [
      "The Number is positive\n"
     ]
    }
   ],
   "source": [
    "#Ex no:2 \n",
    "#Write a program that takes an input from the user and checks if the number is postive,negative or zero\n",
    "\n",
    "X=int(input('Enter a number:'))\n",
    "if X>0:\n",
    "    print('The Number is positive')\n",
    "elif X<0:\n",
    "    print('The Number is negative')\n",
    "else:\n",
    "    print('The Number is Zero')"
   ]
  },
  {
   "cell_type": "code",
   "execution_count": 82,
   "id": "c17c7233-9915-4e64-b4a2-e8d4966ec07f",
   "metadata": {},
   "outputs": [
    {
     "name": "stdin",
     "output_type": "stream",
     "text": [
      "Enter a first word: gan\n",
      "Enter a second word: esh\n"
     ]
    },
    {
     "name": "stdout",
     "output_type": "stream",
     "text": [
      "Concatenation: ganesh\n"
     ]
    }
   ],
   "source": [
    "#Ex no:3 \n",
    "#Write a python program to concatenate two strings provided by user\n",
    "\n",
    "first_name=str(input('Enter a first word:'))\n",
    "second_name=str(input('Enter a second word:'))\n",
    "full_name=first_name+second_name\n",
    "print('Concatenation:',full_name)"
   ]
  },
  {
   "cell_type": "code",
   "execution_count": 80,
   "id": "6877d779-0c28-4c52-9359-aa622976b574",
   "metadata": {},
   "outputs": [
    {
     "name": "stdin",
     "output_type": "stream",
     "text": [
      "Enter a radius of a circle: 2\n"
     ]
    },
    {
     "name": "stdout",
     "output_type": "stream",
     "text": [
      "Area of a Circle is 12.56\n"
     ]
    }
   ],
   "source": [
    "#Ex no:4 \n",
    "#Write a python program to find the area of a circle given its radius\n",
    "\n",
    "radius=int(input('Enter a radius of a circle:'))\n",
    "area=3.14*(radius**2)\n",
    "print('Area of a Circle is', area)"
   ]
  },
  {
   "cell_type": "code",
   "execution_count": 78,
   "id": "fb33660e-97cb-4a47-8e0a-79f6db323667",
   "metadata": {},
   "outputs": [
    {
     "name": "stdin",
     "output_type": "stream",
     "text": [
      "Enter a temparature in celsius value: 12\n"
     ]
    },
    {
     "name": "stdout",
     "output_type": "stream",
     "text": [
      "Temparature in fahrenheit value is 53.6 F\n"
     ]
    }
   ],
   "source": [
    "#Ex no:5 \n",
    "#Write a python program that converts a given temparature in celsius to fahrenheit\n",
    "\n",
    "celsius=float(input('Enter a temparature in celsius value:'))\n",
    "fahrenheit=(celsius * 9/5) + 32\n",
    "print('Temparature in fahrenheit value is',fahrenheit,'F')"
   ]
  },
  {
   "cell_type": "code",
   "execution_count": 88,
   "id": "335a47f6-34d1-4dfa-922b-de12de1be4ce",
   "metadata": {},
   "outputs": [
    {
     "name": "stdin",
     "output_type": "stream",
     "text": [
      "Enter a number: 12\n"
     ]
    },
    {
     "name": "stdout",
     "output_type": "stream",
     "text": [
      "The given number is even\n"
     ]
    }
   ],
   "source": [
    "#Ex no:6 Write a program to check if the given number is odd or even\n",
    "\n",
    "a=int(input('Enter a number:'))\n",
    "if a%2==0:\n",
    "    print(\"The given number is even\")\n",
    "else:\n",
    "    print(\"The given number is odd\")"
   ]
  },
  {
   "cell_type": "code",
   "execution_count": 66,
   "id": "54d2aa96-cfe2-4ab7-890c-6978e6b2d128",
   "metadata": {},
   "outputs": [
    {
     "name": "stdin",
     "output_type": "stream",
     "text": [
      "Enter a number: 12\n",
      "Enter a number: 2\n",
      "Enter a number: 3\n"
     ]
    },
    {
     "name": "stdout",
     "output_type": "stream",
     "text": [
      "12 is the Largest number...\n"
     ]
    }
   ],
   "source": [
    "#Ex no:7 \n",
    "#Write a program to find the largest among three numbers using nested if statements\n",
    "\n",
    "x=int(input('Enter a number:'))\n",
    "y=int(input('Enter a number:'))\n",
    "z=int(input('Enter a number:'))\n",
    "if x>y>z or x>z>y:\n",
    "    print(x,'is the Largest number...')\n",
    "elif y>z>x or y>x>z:\n",
    "    print(y,'is the Largest number...')\n",
    "else:\n",
    "    print(z,'is the Largest number...')"
   ]
  },
  {
   "cell_type": "code",
   "execution_count": 90,
   "id": "ca73896c-b63b-47e2-84bd-bebf13d9a579",
   "metadata": {},
   "outputs": [
    {
     "name": "stdin",
     "output_type": "stream",
     "text": [
      "Enter a year: 2024\n"
     ]
    },
    {
     "name": "stdout",
     "output_type": "stream",
     "text": [
      "It is a Leap year...\n"
     ]
    }
   ],
   "source": [
    "#Ex no:8 \n",
    "#Write a program to check if a year is leap year\n",
    "\n",
    "year =int(input('Enter a year:'))\n",
    "if (year % 400 == 0) or (year % 100 != 0 and year % 4 == 0):\n",
    "    print(\"It is a Leap year...\")\n",
    "else:\n",
    "    print(\"It is NOT a Leap year...\")"
   ]
  },
  {
   "cell_type": "code",
   "execution_count": 92,
   "id": "cff8fec5-d877-408d-8ff0-b4f965c4f5fc",
   "metadata": {},
   "outputs": [
    {
     "name": "stdin",
     "output_type": "stream",
     "text": [
      "Enter your age: 22\n"
     ]
    },
    {
     "name": "stdout",
     "output_type": "stream",
     "text": [
      "Adult\n"
     ]
    }
   ],
   "source": [
    "#Ex no:9 \n",
    "#Write a program to categorize a person's age into different lifestages\n",
    "\n",
    "age=int(input('Enter your age:'))\n",
    "if age<=12:\n",
    "    print('child')\n",
    "elif age<=19:\n",
    "    print('teenager')\n",
    "elif age<=59:\n",
    "    print('Adult')\n",
    "else:\n",
    "    print('Senior Citizen')\n"
   ]
  },
  {
   "cell_type": "code",
   "execution_count": 98,
   "id": "256d881f-1b20-468c-a688-96f28f5b5c47",
   "metadata": {},
   "outputs": [
    {
     "name": "stdin",
     "output_type": "stream",
     "text": [
      "Enter a character: g\n"
     ]
    },
    {
     "name": "stdout",
     "output_type": "stream",
     "text": [
      "The given character is Consonent\n"
     ]
    }
   ],
   "source": [
    "#Ex no:10 \n",
    "#Write a program to check if a given character is a vowel or consonent\n",
    "\n",
    "Z=str(input('Enter a character:'))\n",
    "i='a','A','e','E','i','I','o','O','u','U'\n",
    "if Z in i:\n",
    "   print('The given character is vowel')\n",
    "else:\n",
    "    print('The given character is Consonent')"
   ]
  },
  {
   "cell_type": "markdown",
   "id": "bfcced87-23fb-42d9-b992-a3b3f9a791a3",
   "metadata": {},
   "source": [
    "## Looping Statements"
   ]
  },
  {
   "cell_type": "markdown",
   "id": "7349d56a-4b8e-453c-bbe4-73aa7cb8071b",
   "metadata": {},
   "source": [
    "* Looping statements in Python are used to repeatedly execute a block of code.\n",
    "\n",
    "* Types of Looping statements\n",
    "    * for loop\n",
    "    * while loop\n",
    "    * Nested loop"
   ]
  },
  {
   "cell_type": "markdown",
   "id": "3cae79d9-d8f0-4061-8a7d-b4010cc7310f",
   "metadata": {},
   "source": [
    "###  for loop"
   ]
  },
  {
   "cell_type": "markdown",
   "id": "70e34765-abc7-425a-9733-1c9a3d54599f",
   "metadata": {},
   "source": [
    "* for loop is used for iterating over a sequence.\n",
    "\n",
    "* syntax:\n",
    "    * for (variable) in (sequence):"
   ]
  },
  {
   "cell_type": "code",
   "execution_count": 170,
   "id": "15b01dcd-75b2-479c-8981-49ad365178d6",
   "metadata": {},
   "outputs": [
    {
     "name": "stdin",
     "output_type": "stream",
     "text": [
      "enter a value: 10\n"
     ]
    },
    {
     "name": "stdout",
     "output_type": "stream",
     "text": [
      "0 1 2 3 4 5 6 7 8 9 10 "
     ]
    }
   ],
   "source": [
    "#For loop \n",
    "#To print number given by user from zero to given value\n",
    "\n",
    "Z=int(input('enter a value:'))\n",
    "for i in range(0,Z+1):\n",
    "    print(i,end=' ')"
   ]
  },
  {
   "cell_type": "markdown",
   "id": "1b33a6d3-407b-4b91-8a41-d96a376aa7f9",
   "metadata": {},
   "source": [
    "### while loop"
   ]
  },
  {
   "cell_type": "markdown",
   "id": "78837d3e-9d14-4793-8c3c-e9e4fca76d33",
   "metadata": {},
   "source": [
    "* while loop is used to executed number of statments or body till the condition passed in while is true.Once the condition is false, the control will come out of the loop\n",
    "\n",
    "* syntax:\n",
    "    * while (condition):"
   ]
  },
  {
   "cell_type": "code",
   "execution_count": 176,
   "id": "10ea8d5a-4c8b-4eb6-866e-898fc98ae2e4",
   "metadata": {},
   "outputs": [
    {
     "name": "stdin",
     "output_type": "stream",
     "text": [
      "Enter value: 5\n"
     ]
    },
    {
     "name": "stdout",
     "output_type": "stream",
     "text": [
      "5 10 15 20 25 "
     ]
    }
   ],
   "source": [
    "#while loop\n",
    "\n",
    "a=int(input('Enter value:'))\n",
    "while a<=25:\n",
    "    print(a,end=' ')\n",
    "    a=a+5"
   ]
  },
  {
   "cell_type": "markdown",
   "id": "220051f1-eb11-426e-a386-14a3361bcdb0",
   "metadata": {},
   "source": [
    "### Nested loops\n"
   ]
  },
  {
   "cell_type": "markdown",
   "id": "0fc7c5a9-9be7-44e9-b14d-70ea855c4ca3",
   "metadata": {},
   "source": [
    "* Nested loops in Python involve placing one loop inside another.This allows you to perform more complex operations where each iteration of the outer loop triggers multiple iterations of the inner loop.\n",
    "\n",
    "* Syntax:\n",
    "    * for outer_variable in outer_sequence:\n",
    "        * for inner_variable in inner_sequence:\n",
    "          #Code to execute for each combination of outer and inner variables"
   ]
  },
  {
   "cell_type": "code",
   "execution_count": 12,
   "id": "e9b6088f-aa10-4119-9bf3-e17e18a6efdf",
   "metadata": {},
   "outputs": [
    {
     "name": "stdout",
     "output_type": "stream",
     "text": [
      "1 \n",
      "2 2 \n",
      "3 3 3 \n",
      "4 4 4 4 \n",
      "5 5 5 5 5 \n",
      "6 6 6 6 6 6 \n",
      "7 7 7 7 7 7 7 \n"
     ]
    }
   ],
   "source": [
    "#Nested for loop \n",
    "#To generate a pattern as given \n",
    "\n",
    "for i in range(1,8):\n",
    "    for j in range(1,i+1):\n",
    "        print(i,end=' ')\n",
    "    print()"
   ]
  },
  {
   "cell_type": "markdown",
   "id": "51033183-256d-4c73-8353-4e77b28a35b2",
   "metadata": {},
   "source": [
    "###  Break statement"
   ]
  },
  {
   "cell_type": "markdown",
   "id": "72eb25fa-ae43-404e-9d38-6cb6d851feb8",
   "metadata": {},
   "source": [
    "* The break statement in Python is used to exit from a loop prematurely, before the loop condition becomes false.It can be used in both for and while loops."
   ]
  },
  {
   "cell_type": "code",
   "execution_count": 178,
   "id": "dff0f99a-08d3-4302-97ae-b1133d37cd77",
   "metadata": {},
   "outputs": [
    {
     "name": "stdout",
     "output_type": "stream",
     "text": [
      "1 1 1 \n",
      "2 2 2 \n",
      "loop breaks...\n"
     ]
    }
   ],
   "source": [
    "#Nested For loop using break statment\n",
    "\n",
    "for i in range(1,6):\n",
    "    if(i==3):\n",
    "        print('loop breaks...')\n",
    "        break\n",
    "    for j in range(1,4):\n",
    "        print(i,end=' ')\n",
    "    print()"
   ]
  },
  {
   "cell_type": "markdown",
   "id": "1cd4abd9-4c57-4aee-81d2-51fb54c664d0",
   "metadata": {},
   "source": [
    "### continue statement"
   ]
  },
  {
   "cell_type": "markdown",
   "id": "489f6a13-fd3d-4e62-af07-ac7950d64a1f",
   "metadata": {},
   "source": [
    "* The continue statement in Python is used to skip the current iteration of a loop and proceed to the next iteration "
   ]
  },
  {
   "cell_type": "code",
   "execution_count": 180,
   "id": "45d22571-33d1-4f66-90f6-d03a55971ec1",
   "metadata": {},
   "outputs": [
    {
     "name": "stdout",
     "output_type": "stream",
     "text": [
      "1 1 Loop breaks..\n",
      "\n",
      "2 2 Loop breaks..\n",
      "\n",
      "3 3 Loop breaks..\n",
      "\n",
      "4 4 Loop breaks..\n",
      "\n",
      "5 5 Loop breaks..\n",
      "\n"
     ]
    }
   ],
   "source": [
    "#Nested For loop using Continue statment\n",
    "\n",
    "for i in range(1,6):\n",
    "    for j in range(1,4):\n",
    "        if(j==3):\n",
    "            print('Loop breaks..')\n",
    "            continue\n",
    "        print(i,end=' ')\n",
    "    print()"
   ]
  },
  {
   "cell_type": "markdown",
   "id": "e54c33ff-941a-4976-b6ef-07c31a3cd588",
   "metadata": {},
   "source": [
    "## OPERATORS"
   ]
  },
  {
   "cell_type": "markdown",
   "id": "49080e3d-73b1-4a3c-a076-1b24a5a4cf3e",
   "metadata": {},
   "source": [
    "* Operators in Python are special symbols or keywords that perform operations on variables and values.\n",
    "\n",
    "* Types of operators in python\n",
    "    * Arithmetic operators\n",
    "    * Comparison operators\n",
    "    * Logical Operators\n",
    "    * Bitwise Operators\n",
    "    * Assignment Operators\n",
    "    * Identity Operators\n",
    "    * Membership Operators"
   ]
  },
  {
   "cell_type": "markdown",
   "id": "ee49c2f9-9c6e-4305-9ca5-07b5ffb60dd1",
   "metadata": {},
   "source": [
    "### Arithmetic Operators "
   ]
  },
  {
   "cell_type": "markdown",
   "id": "4b2463f0-1dc9-4dd4-bdd8-1512aae02075",
   "metadata": {},
   "source": [
    "* This type of operator is used to perform mathematical operations."
   ]
  },
  {
   "cell_type": "code",
   "execution_count": 42,
   "id": "5c455a02-21ec-4065-b2d0-449f31c8b1da",
   "metadata": {},
   "outputs": [
    {
     "name": "stdout",
     "output_type": "stream",
     "text": [
      "Addition: 60\n",
      "Subraction: 40\n",
      "Divison: 5.0\n",
      "Multiplication: 500\n",
      "Modulo: 0\n",
      "Exponentiation: 100\n"
     ]
    }
   ],
   "source": [
    "#Arithmetic operators and operations\n",
    "\n",
    "a=50\n",
    "b=10\n",
    "print(\"Addition:\",a+b)\n",
    "print(\"Subraction:\",a-b)\n",
    "print(\"Divison:\",a/b)# '//' or int(var1/var2) is used to avoid float numbers\n",
    "print(\"Multiplication:\",a*b)\n",
    "print(\"Modulo:\",a%b)\n",
    "print(\"Exponentiation:\",b**2)"
   ]
  },
  {
   "cell_type": "markdown",
   "id": "aad83981-5dac-407e-9b17-b34d4d72becf",
   "metadata": {},
   "source": [
    "### Relational Operators"
   ]
  },
  {
   "cell_type": "markdown",
   "id": "249e6b6e-a613-42f0-a996-bfb4213c4023",
   "metadata": {},
   "source": [
    "* This type of operator is used to compare two values."
   ]
  },
  {
   "cell_type": "code",
   "execution_count": null,
   "id": "9dddafb7-5109-4fb5-bcc3-aeb0b4c48035",
   "metadata": {},
   "outputs": [],
   "source": [
    "#Relational or comparison operator And Operations\n",
    "\n",
    "x=50\n",
    "y=10\n",
    "print(\"Less than:\",x<y)\n",
    "print(\"Greater than:\",x>y)\n",
    "print(\"Less than or equal to:\",x<=y)\n",
    "print(\"Greater than or equal to:\",x>=y)\n",
    "print(\"Double Equal to:\",x==y)\n",
    "print(\"Not equal to:\",x!=y)"
   ]
  },
  {
   "cell_type": "markdown",
   "id": "6af600ad-2fcb-45f8-8f4c-441a478a16b6",
   "metadata": {},
   "source": [
    "### Logical Operators"
   ]
  },
  {
   "cell_type": "markdown",
   "id": "7ddb7513-12e3-4cfc-9444-4c36f1f2eeb5",
   "metadata": {},
   "source": [
    "* This type of operator is used to combine conditional statements"
   ]
  },
  {
   "cell_type": "code",
   "execution_count": 16,
   "id": "1a042e8e-d8e0-4cd1-8bf2-d24b8e5ca429",
   "metadata": {},
   "outputs": [
    {
     "name": "stdout",
     "output_type": "stream",
     "text": [
      "AND: True\n",
      "OR: False\n",
      "NOT: False\n"
     ]
    }
   ],
   "source": [
    "#Logical operators\n",
    "\n",
    "a=1\n",
    "b=2\n",
    "print(\"AND:\",a<b or b<a)\n",
    "print(\"OR:\",a<b and b<a)\n",
    "print(\"NOT:\",not(a<b))\n",
    " "
   ]
  },
  {
   "cell_type": "markdown",
   "id": "caf1f613-8d05-4664-b1dc-34530b3a7d43",
   "metadata": {},
   "source": [
    "### Bitwise Operators"
   ]
  },
  {
   "cell_type": "markdown",
   "id": "cc9bf5b4-7104-4e41-b601-cabbdd6aa5f1",
   "metadata": {},
   "source": [
    "* Operate on binary representations of numbers"
   ]
  },
  {
   "cell_type": "code",
   "execution_count": null,
   "id": "058e1970-d59d-476c-b4c9-d22dbb8f22e5",
   "metadata": {},
   "outputs": [],
   "source": [
    "#Bitwise operators\n",
    "\n",
    "a = 12  # Binary: 1100\n",
    "b = 7   # Binary: 0111\n",
    "print('Bitwise And:', a & b)   # Binary result: 0100\n",
    "print('Bitewise OR:', a | b)   # Binary result: 1111\n",
    "print('Bitwise XOR:', a ^ b)   # Binary result: 1011\n",
    "print('Bitwise NOT:', ~a )     # Binary result: 0011\n",
    "print('Bitwise RIGHT SHIFT:', a << 2)  # Binary result: 0011 0000)\n",
    "print('Bitwise LEFT SHIFT:', a >> 2)  # Binary result: 0000 0011)"
   ]
  },
  {
   "cell_type": "markdown",
   "id": "dbcaf99c-079d-4def-9ec1-a812551053b4",
   "metadata": {},
   "source": [
    "### Assignment Operators"
   ]
  },
  {
   "cell_type": "markdown",
   "id": "a6b56051-46c6-49ec-803d-22b0dd0aeb6a",
   "metadata": {},
   "source": [
    "* This type of operator is used to assign values to variables"
   ]
  },
  {
   "cell_type": "code",
   "execution_count": 188,
   "id": "dc9215ea-ba74-4725-a4a7-81bf33ced037",
   "metadata": {},
   "outputs": [
    {
     "name": "stdout",
     "output_type": "stream",
     "text": [
      "Addition: 8\n",
      "Subraction: 8\n",
      "Divison: 4.0\n",
      "Multiplication: 8.0\n",
      "Modulo: 0.0\n",
      "Exponention: 0.0\n"
     ]
    }
   ],
   "source": [
    "#Assignment Operators and Operations\n",
    "\n",
    "a=5\n",
    "a+= 3\n",
    "print('Addition:', a)\n",
    "a-=0\n",
    "print(\"Subraction:\",a)\n",
    "a/=2\n",
    "print(\"Divison:\",a) # '//' or int(var1/var2) is used to avoid float numbers\n",
    "a*=2\n",
    "print(\"Multiplication:\",a)\n",
    "a%=2\n",
    "print(\"Modulo:\",a)\n",
    "a**=2\n",
    "print(\"Exponention:\",a)"
   ]
  },
  {
   "cell_type": "markdown",
   "id": "294e897e-34b2-4abe-9d17-d54bb130ec35",
   "metadata": {},
   "source": [
    "### Identity Operators"
   ]
  },
  {
   "cell_type": "markdown",
   "id": "73bc785c-986d-4fb4-9a2e-8a88f5828355",
   "metadata": {},
   "source": [
    "* This type of operator isused to compare the memory locations of two objects"
   ]
  },
  {
   "cell_type": "code",
   "execution_count": 28,
   "id": "3196c98b-0068-43d9-a852-e2ab0c4f4599",
   "metadata": {},
   "outputs": [
    {
     "name": "stdout",
     "output_type": "stream",
     "text": [
      "True\n",
      "True\n"
     ]
    }
   ],
   "source": [
    "#Identity operator and operations\n",
    "\n",
    "a = [1, 2, 3]\n",
    "b = [1, 2, 3]\n",
    "c = a\n",
    "\n",
    "print(a is not b) \n",
    "print(a is c)"
   ]
  },
  {
   "cell_type": "markdown",
   "id": "6cb1a0b5-9aa8-4cac-86d8-fcd2c012741e",
   "metadata": {},
   "source": [
    "### Membership Operators"
   ]
  },
  {
   "cell_type": "markdown",
   "id": "11e59054-269a-4321-bf48-5794e7c8b9af",
   "metadata": {},
   "source": [
    "* This type of operator is used to check if a value is a member of a sequence (like a list or a string)"
   ]
  },
  {
   "cell_type": "code",
   "execution_count": 192,
   "id": "15ea0cb2-2cc4-4d04-b4f5-20ee294591f3",
   "metadata": {},
   "outputs": [
    {
     "name": "stdin",
     "output_type": "stream",
     "text": [
      " g\n"
     ]
    },
    {
     "name": "stdout",
     "output_type": "stream",
     "text": [
      "consonent\n"
     ]
    }
   ],
   "source": [
    "#Membership operator\n",
    "\n",
    "x=str(input())\n",
    "A='a','A','e','E','i','I','o','O','u','U'\n",
    "if x not in A:# in and not in are the types\n",
    "    print('consonent')\n",
    "else:\n",
    "    print('vowel')"
   ]
  },
  {
   "cell_type": "markdown",
   "id": "b41811b4-e1c6-43bc-938d-8c8b6ab8eefd",
   "metadata": {},
   "source": [
    "# Strings"
   ]
  },
  {
   "cell_type": "markdown",
   "id": "57dd9b78-e99e-4a70-bd68-01265236f44c",
   "metadata": {},
   "source": [
    "* Python strings are immutable, meaning that once created, they cannot be changed, but you can create new strings based on operations performed on existing ones.\n",
    "* A string is a sequence of characters enclosed within single quotes ('), double quotes (\"), or triple quotes (''' or \"\"\").Strings are used to store text."
   ]
  },
  {
   "cell_type": "code",
   "execution_count": 23,
   "id": "455e3d7c-7f12-40d8-8250-516376812ee2",
   "metadata": {},
   "outputs": [],
   "source": [
    "# Single quotes\n",
    "string1 = 'Hello, world!'\n",
    "\n",
    "# Double quotes\n",
    "string2 = \"Hello, world!\"\n",
    "\n",
    "# Triple quotes (for multi-line strings)\n",
    "string3 = \"\"\"This is a\n",
    "multi-line string.\"\"\""
   ]
  },
  {
   "cell_type": "code",
   "execution_count": 31,
   "id": "31d54e4b-6dcb-41d8-886c-c32506afa1a3",
   "metadata": {},
   "outputs": [
    {
     "name": "stdout",
     "output_type": "stream",
     "text": [
      "Hello World\n"
     ]
    }
   ],
   "source": [
    "#Concatenation\n",
    "\n",
    "str1 = 'Hello'\n",
    "str2 = 'World'\n",
    "combined = str1 + ' ' + str2\n",
    "print(combined)  "
   ]
  },
  {
   "cell_type": "code",
   "execution_count": 33,
   "id": "24a09760-a659-46c0-8efb-79778129535a",
   "metadata": {},
   "outputs": [
    {
     "name": "stdout",
     "output_type": "stream",
     "text": [
      "hahaha\n"
     ]
    }
   ],
   "source": [
    "#Repetition\n",
    "\n",
    "str1 = 'ha'\n",
    "repeated = str1 * 3\n",
    "print(repeated)  "
   ]
  },
  {
   "cell_type": "code",
   "execution_count": 35,
   "id": "435716a1-44b9-4bf0-9f52-b28cbb68362b",
   "metadata": {},
   "outputs": [
    {
     "name": "stdout",
     "output_type": "stream",
     "text": [
      "6\n"
     ]
    }
   ],
   "source": [
    "#String length\n",
    "\n",
    "text = 'Python'\n",
    "print(len(text))"
   ]
  },
  {
   "cell_type": "code",
   "execution_count": 37,
   "id": "3d886e41-0c9a-49e7-8045-20f762612645",
   "metadata": {},
   "outputs": [
    {
     "name": "stdout",
     "output_type": "stream",
     "text": [
      "Name: Ganesh, Age: 20\n"
     ]
    }
   ],
   "source": [
    "#Formatting string\n",
    "\n",
    "name = 'Ganesh'\n",
    "age = 20\n",
    "formatted = f'Name: {name}, Age: {age}'\n",
    "print(formatted) "
   ]
  },
  {
   "cell_type": "code",
   "execution_count": 19,
   "id": "b76812ac-c234-4984-a25b-236bb9909ed7",
   "metadata": {},
   "outputs": [
    {
     "name": "stdout",
     "output_type": "stream",
     "text": [
      "H\n",
      "e\n",
      "<class 'str'>\n"
     ]
    }
   ],
   "source": [
    "#STRING INDEXING\n",
    "\n",
    "str=\"Hello World!!\"\n",
    "print(str[0])\n",
    "print(str[1])\n",
    "print(type(str))"
   ]
  },
  {
   "cell_type": "code",
   "execution_count": 35,
   "id": "b37a2315-1b6b-4331-84ff-8d76c2381cb8",
   "metadata": {},
   "outputs": [
    {
     "name": "stdout",
     "output_type": "stream",
     "text": [
      " 1. Hello\n",
      " 2. lloWorlds\n",
      " 3. llo\n",
      " 4. HelloWo\n",
      " 5. rlds\n",
      " 6. Hlools\n",
      " 7. sloolH\n",
      " 8. Hloo\n",
      " 9. elWrd\n",
      "10. Hlool\n",
      "11. lool\n",
      "12. HelloWorlds\n"
     ]
    }
   ],
   "source": [
    "#STRING SLICING\n",
    "\n",
    "str=\"HelloWorlds\"\n",
    "print(' 1.',str[:5])\n",
    "print(' 2.',str[2:])\n",
    "print(' 3.',str[2:5])\n",
    "print(' 4.',str[:-4])\n",
    "print(' 5.',str[-4:])\n",
    "print(' 6.',str[::2])\n",
    "print(' 7.',str[::-2])\n",
    "print(' 8.',str[:7:2])\n",
    "print(' 9.',str[1:11:2])\n",
    "print('10.',str[:10:2])\n",
    "print('11.',str[-9:9:2])\n",
    "print('12.',str[:])"
   ]
  },
  {
   "cell_type": "code",
   "execution_count": 214,
   "id": "8168e6fc-2e38-491b-b479-f179f5a76f68",
   "metadata": {},
   "outputs": [
    {
     "name": "stdout",
     "output_type": "stream",
     "text": [
      "Uppercase: HELLO WORLD\n",
      "Lowercase: hello world\n",
      "Capitalized: Hello world\n",
      "Title Case: Hello World\n",
      "Stripped: hello world\n",
      "Left Stripped: hello world\n",
      "Right Stripped: hello world\n",
      "Replaced: hello Python\n",
      "Split: ['hello', 'world']\n",
      "Joined: hello world\n",
      "Starts with 'he': True\n",
      "Ends with 'world': True\n",
      "Find 'world': 6\n",
      "Count 'hello': 1\n",
      "Is digit '12345': True\n",
      "Is digit '123a45': False\n"
     ]
    }
   ],
   "source": [
    "#string Methods\n",
    "\n",
    "text = \"hello world\"\n",
    "\n",
    "# 1. str.upper()\n",
    "print(\"Uppercase:\", text.upper())  # Output: HELLO WORLD\n",
    "\n",
    "# 2. str.lower()\n",
    "print(\"Lowercase:\", text.lower())  # Output: hello world\n",
    "\n",
    "# 3. str.capitalize()\n",
    "print(\"Capitalized:\", text.capitalize())  # Output: Hello world\n",
    "\n",
    "# 4. str.title()\n",
    "print(\"Title Case:\", text.title())  # Output: Hello World\n",
    "\n",
    "# 5. str.strip()\n",
    "print(\"Stripped:\", text.strip())  # Output: hello world\n",
    "\n",
    "# 6. str.lstrip()\n",
    "print(\"Left Stripped:\", text.lstrip())  # Output: hello world   \n",
    "\n",
    "# 7. str.rstrip()\n",
    "print(\"Right Stripped:\", text.rstrip())  # Output:    hello world\n",
    "\n",
    "# 8. str.replace(old, new)\n",
    "print(\"Replaced:\", text.replace(\"world\", \"Python\"))  # Output:    hello Python   \n",
    "\n",
    "# 9. str.split(separator)\n",
    "words = text.split()\n",
    "print(\"Split:\", words)  # Output: ['hello', 'world']\n",
    "\n",
    "# 10. str.join(iterable)\n",
    "sentence = \" \".join(words)\n",
    "print(\"Joined:\", sentence)  # Output: hello world\n",
    "\n",
    "# 11. str.startswith(prefix)\n",
    "print(\"Starts with 'he':\", text.startswith(\"he\"))  # Output: True\n",
    "\n",
    "# 12. str.endswith(suffix)\n",
    "print(\"Ends with 'world':\", text.endswith(\"world\"))  # Output: True\n",
    "\n",
    "# 13. str.find(substring)\n",
    "print(\"Find 'world':\", text.find(\"world\"))  # Output: 9\n",
    "\n",
    "# 14. str.count(substring)\n",
    "print(\"Count 'hello':\", text.count(\"hello\"))  # Output: 1\n",
    "\n",
    "# 15. str.isdigit()\n",
    "\n",
    "print(\"Is digit '12345':\", \"12345\".isdigit())  # Output: True\n",
    "print(\"Is digit '123a45':\", \"123a45\".isdigit())  # Output: False"
   ]
  },
  {
   "cell_type": "markdown",
   "id": "a4af68bb-e9c4-459f-90cb-a6375e4265e7",
   "metadata": {},
   "source": [
    "### Exercises"
   ]
  },
  {
   "cell_type": "code",
   "execution_count": 224,
   "id": "0d089b72-4a1b-4d07-b256-ed20229af521",
   "metadata": {},
   "outputs": [
    {
     "name": "stdin",
     "output_type": "stream",
     "text": [
      "Enter a string:  gAnesh\n"
     ]
    },
    {
     "name": "stdout",
     "output_type": "stream",
     "text": [
      "The number of vowels in the entered string is: 2\n"
     ]
    }
   ],
   "source": [
    "#Q.no:1 \n",
    "#Write a program to count the number of vowels in a string entered by the user.\n",
    "\n",
    "vowels = 'aeiou'\n",
    "user_input = input(\"Enter a string: \")\n",
    "vowel_count = 0\n",
    "for char in user_input.lower():  \n",
    "    if char in vowels:\n",
    "        vowel_count += 1\n",
    "print(\"The number of vowels in the entered string is: {}\".format(vowel_count))"
   ]
  },
  {
   "cell_type": "code",
   "execution_count": 230,
   "id": "a9a13d03-9b84-498d-a38b-7d7b05bdd65e",
   "metadata": {},
   "outputs": [
    {
     "name": "stdin",
     "output_type": "stream",
     "text": [
      " Madam\n"
     ]
    },
    {
     "name": "stdout",
     "output_type": "stream",
     "text": [
      "It is a palindrome\n"
     ]
    }
   ],
   "source": [
    "#Q.no:2 \n",
    "#Write a program to check if a string entered by the user is a palindrome.\n",
    "\n",
    "user=input()\n",
    "n=user[::-1]\n",
    "if user.lower()==n.lower():\n",
    "    print('It is a palindrome')\n",
    "else:\n",
    "    print('It is not a palindrome')"
   ]
  },
  {
   "cell_type": "code",
   "execution_count": 232,
   "id": "d3f45af3-d177-4fd9-b472-67ad6c9b7854",
   "metadata": {},
   "outputs": [
    {
     "name": "stdin",
     "output_type": "stream",
     "text": [
      "Enter a string:  ganesh\n"
     ]
    },
    {
     "name": "stdout",
     "output_type": "stream",
     "text": [
      "Character frequencies:\n",
      "g: 1\n",
      "a: 1\n",
      "n: 1\n",
      "e: 1\n",
      "s: 1\n",
      "h: 1\n"
     ]
    }
   ],
   "source": [
    "#Q.no:3 \n",
    "#Write a program to find the frequency of each character in a string entered by the user.\n",
    "\n",
    "user_input = input(\"Enter a string: \")\n",
    "frequency = {}\n",
    "for char in user_input:\n",
    "    if char in frequency:\n",
    "        frequency[char] += 1\n",
    "    else:\n",
    "        frequency[char] = 1\n",
    "print(\"Character frequencies:\")\n",
    "for char, count in frequency.items():\n",
    "    print(\"{}: {}\".format(char, count))"
   ]
  },
  {
   "cell_type": "code",
   "execution_count": 236,
   "id": "f5795546-96d1-493c-978d-64f1710a77f1",
   "metadata": {},
   "outputs": [
    {
     "name": "stdin",
     "output_type": "stream",
     "text": [
      "Enter a string:  gan ash n\n"
     ]
    },
    {
     "name": "stdout",
     "output_type": "stream",
     "text": [
      "String without whitespace characters: ganashn\n"
     ]
    }
   ],
   "source": [
    "#Q.no:4 \n",
    "#Write a program to remove all whitespace characters from a string entered by the user.\n",
    "\n",
    "user_input = input(\"Enter a string: \")\n",
    "cleaned_string = user_input.replace(\" \", \"\")\n",
    "print(\"String without whitespace characters:\", cleaned_string)"
   ]
  },
  {
   "cell_type": "code",
   "execution_count": 238,
   "id": "82af3ca0-373d-4477-baa4-f7623af9d31a",
   "metadata": {},
   "outputs": [
    {
     "name": "stdin",
     "output_type": "stream",
     "text": [
      "Enter the original string:  Ganesh\n",
      "Enter the substring to replace:  gan\n",
      "Enter the replacement substring:  es\n"
     ]
    },
    {
     "name": "stdout",
     "output_type": "stream",
     "text": [
      "Modified string: Ganesh\n"
     ]
    }
   ],
   "source": [
    "#Q.no:5 \n",
    "#Write a program to replace all occurrences of a substring in a string \n",
    "#entered by the user with another substring.\n",
    "\n",
    "original_string = input(\"Enter the original string: \")\n",
    "substring_to_replace = input(\"Enter the substring to replace: \")\n",
    "replacement_substring = input(\"Enter the replacement substring: \")\n",
    "modified_string = original_string.replace(substring_to_replace, replacement_substring)\n",
    "print(\"Modified string:\", modified_string)"
   ]
  },
  {
   "cell_type": "markdown",
   "id": "be0ad58c-ae65-4ffc-bbfc-78305a4fa904",
   "metadata": {},
   "source": [
    "## Lists"
   ]
  },
  {
   "cell_type": "markdown",
   "id": "2b9a055b-3760-4134-8d40-0c062bc22a65",
   "metadata": {},
   "source": [
    "* A list is a mutable, ordered collection of items that can be of any type, including other lists. \n",
    "* Lists are defined by enclosing elements in square brackets ('[]') and separating them with commas"
   ]
  },
  {
   "cell_type": "code",
   "execution_count": 38,
   "id": "632e9e7d-c5c7-435e-a555-982e53def2aa",
   "metadata": {},
   "outputs": [],
   "source": [
    "# A list of integers\n",
    "numbers = [1, 2, 3, 4, 5]\n",
    "\n",
    "# A list of strings\n",
    "fruits = ['apple', 'banana', 'cherry']\n",
    "\n",
    "# A list with mixed data types\n",
    "mixed_list = [1, 'apple', 3.14, [1, 2, 3]]"
   ]
  },
  {
   "cell_type": "code",
   "execution_count": null,
   "id": "3d26cfc0-84ea-41cb-a158-bf624737fc92",
   "metadata": {},
   "outputs": [],
   "source": [
    "#Appending elements\n",
    "\n",
    "fruits = ['apple', 'banana']\n",
    "fruits.append('cherry')\n",
    "print(fruits) "
   ]
  },
  {
   "cell_type": "code",
   "execution_count": 49,
   "id": "556c22e0-c992-484c-adf5-269c151bb588",
   "metadata": {},
   "outputs": [
    {
     "name": "stdout",
     "output_type": "stream",
     "text": [
      "['apple', 'blueberry', 'banana']\n"
     ]
    }
   ],
   "source": [
    "#Inserting elements\n",
    "\n",
    "fruits = ['apple', 'banana']\n",
    "fruits.insert(1, 'blueberry')  # Insert 'blueberry' at index 1\n",
    "print(fruits) "
   ]
  },
  {
   "cell_type": "code",
   "execution_count": 240,
   "id": "995529f8-c876-422a-85be-3a0fddb3ced0",
   "metadata": {},
   "outputs": [
    {
     "name": "stdout",
     "output_type": "stream",
     "text": [
      "['Ganesh', '99.11', ['12', 'ganesh1']]\n",
      "2\n",
      "99.11\n",
      "12\n",
      "CBE\n"
     ]
    }
   ],
   "source": [
    "#LIST Indexing\n",
    "\n",
    "list1=['1','2','3',['Ganesh','99.11',['12','ganesh1']],'CBE']\n",
    "print(list1[3]) \n",
    "print(list1[1]) \n",
    "print(list1[3][1]) \n",
    "print(list1[3][2][0]) \n",
    "print(list1[4]) "
   ]
  },
  {
   "cell_type": "code",
   "execution_count": 43,
   "id": "88d67837-5dc3-4855-a49d-8e20ee6b5a82",
   "metadata": {},
   "outputs": [
    {
     "name": "stdout",
     "output_type": "stream",
     "text": [
      "['2', '3', ['Ganesh', '99.11', ['12', 'ganesh1']], 'CBE']\n"
     ]
    }
   ],
   "source": [
    "#LIST slicing\n",
    "\n",
    "list1=['1','2','3',['Ganesh','99.11',['12','ganesh1']],'CBE']\n",
    "print(list1[1:5])"
   ]
  },
  {
   "cell_type": "code",
   "execution_count": 45,
   "id": "1521433c-7754-454e-ad13-120125cf6a89",
   "metadata": {},
   "outputs": [
    {
     "name": "stdout",
     "output_type": "stream",
     "text": [
      "1\n",
      "3\n",
      "CBE\n"
     ]
    }
   ],
   "source": [
    "#LIST in for loop\n",
    "\n",
    "list1=['1','2','3',['Ganesh','99.11',['12','ganesh1']],'CBE']\n",
    "for i in list1[:5:2]:\n",
    "    print(i)"
   ]
  },
  {
   "cell_type": "code",
   "execution_count": 42,
   "id": "3df46ffa-5891-485b-9a84-690be8661875",
   "metadata": {},
   "outputs": [
    {
     "name": "stdout",
     "output_type": "stream",
     "text": [
      "1.added an element in end : ['1', '2', '3', 'Hello world', '6']\n",
      "3.Copied list: ['1', '2', '3', 'Hello world', '6']\n",
      "4.no.of.elements in list: 1\n",
      "5.added an list into list: ['1', '2', '3', 'Hello world', '6', '1', '2', '3', 'Hello world', '6']\n",
      "6.index: 2\n",
      "7.insertion: ['4', '1', '2', '3', 'Hello world', '6', '1', '2', '3', 'Hello world', '6']\n",
      "8.pop method: 1\n",
      "9.removed an element: ['4', '2', '3', '6', '1', '2', '3', 'Hello world', '6']\n",
      "10.Sorting: ['1', '2', '2', '3', '3', '4', '6', '6', 'Hello world']\n",
      "11.reversed: ['Hello world', '6', '6', '4', '3', '3', '2', '2', '1']\n"
     ]
    }
   ],
   "source": [
    "#LIST Methods\n",
    "\n",
    "list = ['1','2','3','Hello world']\n",
    "b=['3','4']\n",
    "# 1. list.append()\n",
    "list.append('6')\n",
    "print(\"1.added an element in end :\", list)  \n",
    "\n",
    "# 2. list.clear()\n",
    "#list.clear()\n",
    "#print(\"2.List cleared:\", list)  \n",
    "\n",
    "# 3. list.copy()\n",
    "a=list.copy()\n",
    "print(\"3.Copied list:\",a)  \n",
    "\n",
    "# 4. list.count()\n",
    "print(\"4.no.of.elements in list:\", list.count('3'))  \n",
    "\n",
    "# 5. list.extend()\n",
    "list.extend(a)\n",
    "print(\"5.added an list into list:\", list)  \n",
    "\n",
    "# 6. list.index()\n",
    "print(\"6.index:\", list.index('3')) \n",
    "\n",
    "# 7. list.insert()\n",
    "list.insert(0,'4')\n",
    "print(\"7.insertion:\", list)\n",
    "\n",
    "# 8. list.pop()\n",
    "print(\"8.pop method:\", list.pop(1))    \n",
    "\n",
    "# 9. list.remove()\n",
    "list.remove('Hello world')\n",
    "print(\"9.removed an element:\",list)\n",
    "\n",
    "# 10. list.sor()\n",
    "list.sort()\n",
    "print(\"10.Sorting:\", list)  \n",
    "\n",
    "# 11. list.reverse()\n",
    "list.reverse()\n",
    "print(\"11.reversed:\", list) "
   ]
  },
  {
   "cell_type": "markdown",
   "id": "b72941ac-ed7f-48d9-ae4d-0fa7d5a3b843",
   "metadata": {},
   "source": [
    "### Excercises"
   ]
  },
  {
   "cell_type": "code",
   "execution_count": 242,
   "id": "57bda41d-11d2-407e-8137-b9be8a37602f",
   "metadata": {},
   "outputs": [
    {
     "name": "stdin",
     "output_type": "stream",
     "text": [
      "Enter the number of integers 3\n",
      "Enter a integer: 10\n",
      "Enter a integer: 10\n",
      "Enter a integer: 10\n"
     ]
    },
    {
     "name": "stdout",
     "output_type": "stream",
     "text": [
      "addition: 30\n"
     ]
    }
   ],
   "source": [
    "#Q.no:1 \n",
    "#Write a program to create a list of n integers entered by the user and\n",
    "#print the sum of all the elements in the list.\n",
    "\n",
    "n=int(input('Enter the number of integers'))\n",
    "list=[]\n",
    "for i in range(0,n):\n",
    "    a=int(input(\"Enter a integer:\"))\n",
    "    list.append(a)\n",
    "print(\"addition:\",sum(list))"
   ]
  },
  {
   "cell_type": "code",
   "execution_count": 246,
   "id": "ac5b2415-7960-4b91-9960-1604663eb216",
   "metadata": {},
   "outputs": [
    {
     "name": "stdin",
     "output_type": "stream",
     "text": [
      "Enter the number of integers 2\n",
      "Enter a integer: 10\n",
      "Enter a integer: 10\n"
     ]
    },
    {
     "name": "stdout",
     "output_type": "stream",
     "text": [
      "Minimum: 10\n",
      "Maximum: 10\n"
     ]
    }
   ],
   "source": [
    "#Q.no:2 \n",
    "#Write a program to find the maximum and minimum values in a list of n integers \n",
    "#entered by the user.\n",
    "\n",
    "n=int(input('Enter the number of integers'))\n",
    "list=[]\n",
    "for i in range(0,n):\n",
    "    a=int(input(\"Enter a integer:\"))\n",
    "    list.append(a)\n",
    "print(\"Minimum:\",min(list))\n",
    "print(\"Maximum:\",max(list))"
   ]
  },
  {
   "cell_type": "code",
   "execution_count": 13,
   "id": "872850ad-5cc1-402c-8e9a-209d396ca65b",
   "metadata": {},
   "outputs": [
    {
     "name": "stdin",
     "output_type": "stream",
     "text": [
      "Enter the number of integers 3\n",
      "Enter a integer: 2\n",
      "Enter a integer: 4\n",
      "Enter a integer: 6\n"
     ]
    },
    {
     "name": "stdout",
     "output_type": "stream",
     "text": [
      "[6, 4, 2]\n"
     ]
    }
   ],
   "source": [
    "#Q.no:3 \n",
    "#Write a program to reverse a list of n integers entered by the user without using the \n",
    "#built-in reverse method.\n",
    "\n",
    "n=int(input('Enter the number of integers'))\n",
    "list=[]\n",
    "for i in range(0,n):\n",
    "    a=int(input(\"Enter a integer:\"))\n",
    "    list.append(a)\n",
    "print(list[::-1])"
   ]
  },
  {
   "cell_type": "code",
   "execution_count": 248,
   "id": "a429d216-509b-43ab-8421-f4171fac3fe3",
   "metadata": {},
   "outputs": [
    {
     "name": "stdin",
     "output_type": "stream",
     "text": [
      "Enter a list of elements (separated by spaces):  hs,sf\n",
      "Enter the element to count:  hsh\n"
     ]
    },
    {
     "name": "stdout",
     "output_type": "stream",
     "text": [
      "The number of occurrences of 'hsh' is: 0\n"
     ]
    }
   ],
   "source": [
    "#Q.no:4 Write a program to count the number of occurrences of a specific element in a list\n",
    "#entered by the user.\n",
    "\n",
    "def string_to_list(input_string):\n",
    "    return input_string.split()\n",
    "user_input_list = input(\"Enter a list of elements (separated by spaces): \")\n",
    "element_to_count = input(\"Enter the element to count: \")\n",
    "elements_list = string_to_list(user_input_list)\n",
    "count = elements_list.count(element_to_count)\n",
    "print(\"The number of occurrences of '{}' is: {}\".format(element_to_count, count))"
   ]
  },
  {
   "cell_type": "code",
   "execution_count": 50,
   "id": "49d754c9-164c-42c2-89f2-ce9306c544b9",
   "metadata": {},
   "outputs": [
    {
     "name": "stdin",
     "output_type": "stream",
     "text": [
      "Enter the number of integers 4\n",
      "Enter a integer: 1\n",
      "Enter a integer: 1\n",
      "Enter a integer: 2\n",
      "Enter a integer: 3\n"
     ]
    },
    {
     "name": "stdout",
     "output_type": "stream",
     "text": [
      "None\n"
     ]
    }
   ],
   "source": [
    "#Q.no:5 \n",
    "#Write a program to remove all duplicate elements from a list of n integers \n",
    "#entered by the user.\n",
    "\n",
    "n=int(input('Enter the number of integers'))\n",
    "list=[]\n",
    "for i in range(0,n):\n",
    "    a=int(input(\"Enter a integer:\"))\n",
    "    list.append(a)\n",
    "print(list.remove(list ==list)"
   ]
  },
  {
   "cell_type": "markdown",
   "id": "7046191d-52de-4462-9067-b02f92fbda92",
   "metadata": {},
   "source": [
    "## Tuples"
   ]
  },
  {
   "cell_type": "markdown",
   "id": "d08882ec-3402-4365-a3a3-40df7d49471e",
   "metadata": {},
   "source": [
    "* Tuples in Python are immutable,ordered collections of elements.\n",
    "* Unlike lists, once a tuple is created, its contents cannot be altered.\n",
    "* Tuples are used for grouping related data and are often employed when the data should remain constant."
   ]
  },
  {
   "cell_type": "code",
   "execution_count": null,
   "id": "476ba252-5355-45bd-a597-1b5d13573369",
   "metadata": {},
   "outputs": [],
   "source": [
    "# A tuple with integers\n",
    "numbers = (1, 2, 3, 4, 5)\n",
    "\n",
    "# A tuple with strings\n",
    "fruits = ('apple', 'banana', 'cherry')\n",
    "\n",
    "# A tuple with mixed data types\n",
    "mixed_tuple = (1, 'apple', 3.14, (1, 2, 3))\n",
    "\n",
    "# A tuple with a single element (note the comma)\n",
    "single_element_tuple = (42,)"
   ]
  },
  {
   "cell_type": "code",
   "execution_count": 46,
   "id": "7249827a-3bfe-4fda-b9d8-172046706d5f",
   "metadata": {},
   "outputs": [
    {
     "name": "stdout",
     "output_type": "stream",
     "text": [
      "apple\n",
      "cherry\n"
     ]
    }
   ],
   "source": [
    "#Accessing elements\n",
    "\n",
    "fruits = ('apple', 'banana', 'cherry')\n",
    "print(fruits[0])  \n",
    "print(fruits[-1]) "
   ]
  },
  {
   "cell_type": "code",
   "execution_count": null,
   "id": "a9417f86-d4c0-43b3-938d-9785a6f4fbe3",
   "metadata": {},
   "outputs": [],
   "source": [
    "#slicing elements\n",
    "\n",
    "fruits = ('apple', 'banana', 'cherry')\n",
    "print(fruits[1:3]) "
   ]
  },
  {
   "cell_type": "code",
   "execution_count": null,
   "id": "5731e26d-7bbb-43b3-8f2f-e45c9274c7fb",
   "metadata": {},
   "outputs": [],
   "source": [
    "#Concatenation\n",
    "\n",
    "tuple1 = (1, 2, 3)\n",
    "tuple2 = (4, 5, 6)\n",
    "combined = tuple1 + tuple2\n",
    "print(combined)"
   ]
  },
  {
   "cell_type": "code",
   "execution_count": 48,
   "id": "32f9a709-5898-49ec-88ca-d6413c8bbb67",
   "metadata": {},
   "outputs": [
    {
     "name": "stdout",
     "output_type": "stream",
     "text": [
      "('a', 'b', 'c', 'a', 'b', 'c', 'a', 'b', 'c')\n"
     ]
    }
   ],
   "source": [
    "#Repetition\n",
    "\n",
    "tuple1 = ('a', 'b', 'c')\n",
    "repeated = tuple1 * 3\n",
    "print(repeated)"
   ]
  },
  {
   "cell_type": "code",
   "execution_count": 50,
   "id": "f7cdda88-98d3-4fc8-8401-703334502d69",
   "metadata": {},
   "outputs": [
    {
     "name": "stdout",
     "output_type": "stream",
     "text": [
      "1\n"
     ]
    }
   ],
   "source": [
    "#finding elements\n",
    "fruits = ('apple', 'banana', 'cherry')\n",
    "index = fruits.index('banana')\n",
    "print(index) "
   ]
  },
  {
   "cell_type": "code",
   "execution_count": 52,
   "id": "050fe949-11be-422b-9dfe-b4cc281c2cba",
   "metadata": {
    "scrolled": true
   },
   "outputs": [
    {
     "name": "stdout",
     "output_type": "stream",
     "text": [
      "['4', '5', '8', '89', '9', 'gan']\n"
     ]
    },
    {
     "data": {
      "text/plain": [
       "tuple"
      ]
     },
     "execution_count": 52,
     "metadata": {},
     "output_type": "execute_result"
    }
   ],
   "source": [
    "#sorting Tuple \n",
    "\n",
    "tuple=('9','5','89','4','8','gan')\n",
    "print(sorted(tuple))\n",
    "type(tuple)"
   ]
  },
  {
   "cell_type": "code",
   "execution_count": 32,
   "id": "35a8b9f5-f79f-42a0-bea5-b57cb34d070c",
   "metadata": {},
   "outputs": [
    {
     "name": "stdout",
     "output_type": "stream",
     "text": [
      "True\n"
     ]
    }
   ],
   "source": [
    "#any() method\n",
    "\n",
    "tuple=(0,1)\n",
    "print(any(tuple))"
   ]
  },
  {
   "cell_type": "code",
   "execution_count": 53,
   "id": "0a121946-d6b2-424e-b192-6ff46d2cde5b",
   "metadata": {},
   "outputs": [
    {
     "name": "stdout",
     "output_type": "stream",
     "text": [
      "apple\n",
      "byte\n",
      "computer\n"
     ]
    }
   ],
   "source": [
    "#for loop in tuple\n",
    "\n",
    "tuple=(\"apple\",\"byte\",\"computer\")\n",
    "for i in tuple:\n",
    "    print(i)"
   ]
  },
  {
   "cell_type": "code",
   "execution_count": 45,
   "id": "40f84d5a-07b4-4f62-afea-58c1ca6bbc57",
   "metadata": {},
   "outputs": [
    {
     "name": "stdout",
     "output_type": "stream",
     "text": [
      "apple\n"
     ]
    }
   ],
   "source": [
    "#for loop and break in tuple\n",
    "\n",
    "tuple=(\"apple\",\"byte\",\"computer\")\n",
    "n=2\n",
    "for i in range(n):\n",
    "    print(tuple[i])\n",
    "    break"
   ]
  },
  {
   "cell_type": "markdown",
   "id": "277a28d3-1b96-4d9d-bb03-42c3deaa36ff",
   "metadata": {},
   "source": [
    "## Dictionaries"
   ]
  },
  {
   "cell_type": "markdown",
   "id": "567d2881-2cf4-4861-9bd0-e4a465d3b576",
   "metadata": {},
   "source": [
    "* A dictionary is a mutable, unordered collection of key-value pairs.\n",
    "* Dictionaries allow you to store and manage data in a way that is efficient for retrieval and modification.\n",
    "* Each key in a dictionary must be unique and immutable (such as strings, numbers, or tuples),while the values can be of any data type, including lists, other dictionaries, or even functions."
   ]
  },
  {
   "cell_type": "code",
   "execution_count": 10,
   "id": "fcb074c3-bcdd-4e22-981f-cc9a5096d943",
   "metadata": {},
   "outputs": [
    {
     "name": "stdout",
     "output_type": "stream",
     "text": [
      "{1: 'I', 2: 'am', 3: 'Ganesh'}\n"
     ]
    }
   ],
   "source": [
    "#Dictionary declaration\n",
    "\n",
    "value={1:'I',2:'am',3:'Ganesh'}\n",
    "print(value)"
   ]
  },
  {
   "cell_type": "code",
   "execution_count": 57,
   "id": "b4e9495d-c61f-474e-88f6-3ee018f1f18f",
   "metadata": {},
   "outputs": [
    {
     "name": "stdout",
     "output_type": "stream",
     "text": [
      "{'name': 'Alice', 'age': 31, 'city': 'New York'}\n"
     ]
    }
   ],
   "source": [
    "#Modifing values\n",
    "\n",
    "my_dict = {'name': 'Alice', 'age': 30, 'city': 'New York'}\n",
    "my_dict['age'] = 31\n",
    "print(my_dict)"
   ]
  },
  {
   "cell_type": "code",
   "execution_count": 59,
   "id": "4d1cbbb2-ea26-4ee0-900e-2f5c71618685",
   "metadata": {},
   "outputs": [
    {
     "name": "stdout",
     "output_type": "stream",
     "text": [
      "Alice\n"
     ]
    }
   ],
   "source": [
    "#Accessing values\n",
    "\n",
    "my_dict = {'name': 'Alice', 'age': 30, 'city': 'New York'}\n",
    "print(my_dict['name'])"
   ]
  },
  {
   "cell_type": "code",
   "execution_count": 61,
   "id": "b9bcbc6d-445f-4894-8b9a-7489e9a8782d",
   "metadata": {},
   "outputs": [
    {
     "name": "stdout",
     "output_type": "stream",
     "text": [
      "{'name': 'Alice', 'age': 30}\n"
     ]
    }
   ],
   "source": [
    "#Removing elementa\n",
    "\n",
    "my_dict = {'name': 'Alice', 'age': 30, 'city': 'New York'}\n",
    "del my_dict['city']\n",
    "print(my_dict)"
   ]
  },
  {
   "cell_type": "code",
   "execution_count": 65,
   "id": "fc575769-8abf-4422-8bad-6fd673707e8a",
   "metadata": {},
   "outputs": [
    {
     "name": "stdout",
     "output_type": "stream",
     "text": [
      "{'name': 'Alice', 'age': 30, 'city': 'New York', 'email': 'alice@example.com'}\n"
     ]
    }
   ],
   "source": [
    "#adding New Key-Value Pairs\n",
    "\n",
    "my_dict = {'name': 'Alice', 'age': 30, 'city': 'New York'}\n",
    "my_dict['email'] = 'alice@example.com'\n",
    "print(my_dict) "
   ]
  },
  {
   "cell_type": "code",
   "execution_count": 54,
   "id": "c479510e-7804-4bae-be15-6d41e3180e59",
   "metadata": {},
   "outputs": [
    {
     "name": "stdout",
     "output_type": "stream",
     "text": [
      "I\n",
      "am\n",
      "Ganesh\n",
      "Ganesh [1]\n"
     ]
    }
   ],
   "source": [
    "# Dictionary indexing\n",
    "\n",
    "value={1:'I','class':'am',3:'Ganesh'}\n",
    "print(value[1])\n",
    "print(value['class'])\n",
    "print(value[3])\n",
    "print(value[3],[1])"
   ]
  },
  {
   "cell_type": "code",
   "execution_count": 56,
   "id": "b4953704-7bbf-4d02-b0c6-938811386eab",
   "metadata": {},
   "outputs": [
    {
     "name": "stdout",
     "output_type": "stream",
     "text": [
      "N\n"
     ]
    }
   ],
   "source": [
    "#nested dictionary \n",
    "\n",
    "value={1:'I',2:'am',3:{4:'Ganesh',5:'N'}}\n",
    "print(value[3][5])"
   ]
  },
  {
   "cell_type": "code",
   "execution_count": 75,
   "id": "f0600cd8-d7cc-4e81-913e-1902dddfbeef",
   "metadata": {},
   "outputs": [
    {
     "name": "stdout",
     "output_type": "stream",
     "text": [
      "dict_keys(['name', 'age', 'city'])\n",
      "dict_values(['Alice', 30, 'New York'])\n",
      "dict_items([('name', 'Alice'), ('age', 30), ('city', 'New York')])\n",
      "{'name': 'Alice', 'age': 31, 'city': 'New York'}\n",
      "{}\n"
     ]
    }
   ],
   "source": [
    "#Dictionary methods\n",
    "\n",
    "my_dict = {'name': 'Alice', 'age': 30, 'city': 'New York'}\n",
    "\n",
    "#keys()\n",
    "print(my_dict.keys())  \n",
    "\n",
    "#values()\n",
    "print(my_dict.values())  \n",
    "\n",
    "#items()\n",
    "print(my_dict.items())  # Output: dict_items([('name', 'Alice')])\n",
    "\n",
    "#update()\n",
    "my_dict.update({'age': 31, 'city': 'New York'})\n",
    "print(my_dict) \n",
    "\n",
    "#clear()\n",
    "my_dict.clear()\n",
    "print(my_dict)"
   ]
  },
  {
   "cell_type": "markdown",
   "id": "7dcced8e-1792-4027-94c2-c9f073f54e59",
   "metadata": {},
   "source": [
    "## Sets"
   ]
  },
  {
   "cell_type": "markdown",
   "id": "f15d2dc9-e0cf-488e-8aea-eb88a58e069a",
   "metadata": {},
   "source": [
    "* A set is an unordered collection of unique, immutable elements.\n",
    "* Sets are useful when you need to store distinct elements and perform operations like union, intersection, and difference.\n",
    "* Because sets do not allow duplicate values, they are a great choice for ensuring that only unique elements are stored."
   ]
  },
  {
   "cell_type": "code",
   "execution_count": 64,
   "id": "7223d42c-5ffc-4560-89f0-7afbfc3957e9",
   "metadata": {},
   "outputs": [
    {
     "name": "stdout",
     "output_type": "stream",
     "text": [
      "{1, 2, 3, 4, 5, 6}\n",
      "{1, 2, 3, 5, 6}\n",
      "{1, 3, 5, 6}\n",
      "True\n"
     ]
    }
   ],
   "source": [
    "#Operations in sets\n",
    "\n",
    "my_set = {1, 2, 3, 4, 5}\n",
    "my_set.add(6)\n",
    "print(my_set)\n",
    "my_set.remove(4)\n",
    "print(my_set)\n",
    "my_set.discard(2) \n",
    "print(my_set)\n",
    "print(3 in my_set)"
   ]
  },
  {
   "cell_type": "code",
   "execution_count": 66,
   "id": "570a303d-f3cd-4f16-9a92-4e5f0345a43b",
   "metadata": {},
   "outputs": [
    {
     "name": "stdout",
     "output_type": "stream",
     "text": [
      "set()\n"
     ]
    }
   ],
   "source": [
    "#clearing all elements\n",
    "\n",
    "my_set = {1, 2, 3}\n",
    "my_set.clear()\n",
    "print(my_set) "
   ]
  },
  {
   "cell_type": "code",
   "execution_count": 72,
   "id": "c578bb5a-a5bc-4d70-a265-a0302fcebbe6",
   "metadata": {},
   "outputs": [],
   "source": [
    "#set union,intersection,Difference and symmetric Difference\n",
    "\n",
    "set1 = {1, 2, 3}\n",
    "set2 = {3, 4, 5}\n",
    "union_set = set1 | set2  # or set1.union(set2)\n",
    "intersection_set = set1 & set2  # or set1.intersection(set2)\n",
    "difference_set = set1 - set2  # or set1.difference(set2)\n",
    "symmetric_difference_set = set1 ^ set2  # or set1.symmetric_difference(set2)"
   ]
  },
  {
   "cell_type": "code",
   "execution_count": 70,
   "id": "568a0d39-4c9f-4dce-80eb-0676f8ad8703",
   "metadata": {},
   "outputs": [
    {
     "name": "stdout",
     "output_type": "stream",
     "text": [
      "{'banana', 'apple', 'cherry'}\n",
      "Apple is in the set\n",
      "{'potato', 'cherry', 'carrot', 'orange', 'apple'}\n"
     ]
    }
   ],
   "source": [
    "#Example program\n",
    "\n",
    "fruits = {'apple', 'banana', 'cherry'}\n",
    "print(fruits)\n",
    "fruits.add('orange')\n",
    "fruits.discard('banana')\n",
    "if 'apple' in fruits:\n",
    "    print(\"Apple is in the set\")\n",
    "vegetables = {'carrot', 'potato', 'apple'}\n",
    "print(fruits.union(vegetables))  "
   ]
  },
  {
   "cell_type": "markdown",
   "id": "b8b9abad-085b-4f8f-a2f3-3f78bc174738",
   "metadata": {},
   "source": [
    "## Functions"
   ]
  },
  {
   "cell_type": "markdown",
   "id": "3b2976fb-8614-43aa-b146-b718b630a84b",
   "metadata": {},
   "source": [
    "* Functions in Python are blocks of reusable code that perform a specific task.\n",
    "* They help organize and structure your code, making it more modular, readable, and easier to maintain.\n",
    "* Functions can take inputs, called parameters, and return outputs.\n",
    "* Functions are defined using the 'def' keyword, followed by the function name, parentheses, and a colon."
   ]
  },
  {
   "cell_type": "code",
   "execution_count": 6,
   "id": "8d6ce59d-d2ad-411c-98f4-b31d34ed2c0f",
   "metadata": {},
   "outputs": [
    {
     "name": "stdin",
     "output_type": "stream",
     "text": [
      " 1\n",
      " 2\n"
     ]
    },
    {
     "name": "stdout",
     "output_type": "stream",
     "text": [
      "sum 3\n"
     ]
    }
   ],
   "source": [
    "#TO ADD TWO NUMBER WITH PRINT STATMENT IN FUNCTION \n",
    "\n",
    "def add_numbers(a,b):\n",
    "    print('sum',a+b)\n",
    "a= int(input())\n",
    "b=int(input())\n",
    "add_numbers(a,b)"
   ]
  },
  {
   "cell_type": "code",
   "execution_count": 4,
   "id": "66faec72-7c81-4db5-bdc8-13be1c867ad4",
   "metadata": {},
   "outputs": [
    {
     "name": "stdin",
     "output_type": "stream",
     "text": [
      " 12\n",
      " 1\n"
     ]
    },
    {
     "name": "stdout",
     "output_type": "stream",
     "text": [
      "13\n"
     ]
    }
   ],
   "source": [
    "#TO ADD TWO NUMBERS USING FUNCTION\n",
    "\n",
    "def add_numbers(a,b):\n",
    "    sum=a+b\n",
    "    return sum\n",
    "a= int(input())\n",
    "b=int(input())\n",
    "print(add_numbers(a,b))"
   ]
  },
  {
   "cell_type": "code",
   "execution_count": 90,
   "id": "a06f8d57-9975-4d9e-b67e-9e67648fc313",
   "metadata": {},
   "outputs": [
    {
     "name": "stdin",
     "output_type": "stream",
     "text": [
      " 2\n",
      " 2\n"
     ]
    },
    {
     "name": "stdout",
     "output_type": "stream",
     "text": [
      "4\n"
     ]
    }
   ],
   "source": [
    "# To calculate Base and value functions\n",
    "\n",
    "def base_value(n,m):\n",
    "    base=n**m\n",
    "    return base\n",
    "    \n",
    "n=int(input())\n",
    "m=int(input())\n",
    "print(base_value(n,m))"
   ]
  },
  {
   "cell_type": "code",
   "execution_count": 96,
   "id": "88331493-6b80-4957-9b9e-ef8094dd2a89",
   "metadata": {},
   "outputs": [
    {
     "name": "stdin",
     "output_type": "stream",
     "text": [
      " 4\n"
     ]
    },
    {
     "name": "stdout",
     "output_type": "stream",
     "text": [
      "24\n"
     ]
    }
   ],
   "source": [
    "#Factorial function\n",
    "\n",
    "def factorial(n):\n",
    "    sum=1\n",
    "    for i in range(n,0,-1):\n",
    "        sum = sum * i\n",
    "    return sum\n",
    "n=int(input())\n",
    "print(factorial(n))"
   ]
  },
  {
   "cell_type": "code",
   "execution_count": null,
   "id": "f9b2fb7e-3ee9-4c87-962f-d9651f9a65da",
   "metadata": {},
   "outputs": [],
   "source": [
    "#Function With argument without return type\n",
    "\n",
    "def add_numbers(a,b):\n",
    "    print('sum',a+b)\n",
    "a= int(input())\n",
    "b=int(input())\n",
    "add_numbers(a,b)"
   ]
  },
  {
   "cell_type": "code",
   "execution_count": 114,
   "id": "9978e32a-25e9-4104-acd8-2703732fe36f",
   "metadata": {},
   "outputs": [
    {
     "name": "stdin",
     "output_type": "stream",
     "text": [
      " 1\n",
      " 2\n"
     ]
    },
    {
     "data": {
      "text/plain": [
       "3"
      ]
     },
     "execution_count": 114,
     "metadata": {},
     "output_type": "execute_result"
    }
   ],
   "source": [
    "#Function With argument with return type\n",
    "\n",
    "def add_numbers(a,b):\n",
    "    sum=a+b\n",
    "    return sum\n",
    "a= int(input())\n",
    "b=int(input())\n",
    "add_numbers(a,b)"
   ]
  },
  {
   "cell_type": "code",
   "execution_count": 116,
   "id": "845128fc-16a6-45c9-80ac-34819f5e5800",
   "metadata": {},
   "outputs": [
    {
     "name": "stdin",
     "output_type": "stream",
     "text": [
      " 1\n",
      " 2\n"
     ]
    },
    {
     "data": {
      "text/plain": [
       "3"
      ]
     },
     "execution_count": 116,
     "metadata": {},
     "output_type": "execute_result"
    }
   ],
   "source": [
    "#Function Without argument with return type\n",
    "\n",
    "def add_numbers():\n",
    "    sum=a1+b1\n",
    "    return sum\n",
    "a1= int(input())\n",
    "b1=int(input())\n",
    "add_numbers()"
   ]
  },
  {
   "cell_type": "code",
   "execution_count": 122,
   "id": "23ed631f-0d61-4910-b2a0-d86df35fb9f9",
   "metadata": {},
   "outputs": [
    {
     "name": "stdin",
     "output_type": "stream",
     "text": [
      " 10\n",
      " 20\n"
     ]
    },
    {
     "name": "stdout",
     "output_type": "stream",
     "text": [
      "None\n"
     ]
    }
   ],
   "source": [
    "#Function Without argument without return type\n",
    "\n",
    "def add_numbers():\n",
    "    a1+b1\n",
    "    \n",
    "a1= int(input())\n",
    "b1=int(input())\n",
    "print(add_numbers())"
   ]
  },
  {
   "cell_type": "code",
   "execution_count": 126,
   "id": "0314455c-6a1d-485a-8804-1d9d1c979488",
   "metadata": {},
   "outputs": [
    {
     "name": "stdin",
     "output_type": "stream",
     "text": [
      " 10\n",
      " 20\n"
     ]
    },
    {
     "name": "stdout",
     "output_type": "stream",
     "text": [
      "30\n",
      "-10\n",
      "200\n",
      "0.5\n"
     ]
    }
   ],
   "source": [
    "#lambda function\n",
    "\n",
    "sub=lambda a,b:a-b\n",
    "div=lambda a,b:a/b\n",
    "mul=lambda a,b:a*b\n",
    "add=lambda a,b:a+b\n",
    "a=int(input())\n",
    "b=int(input())\n",
    "print(add(a,b))\n",
    "print(sub(a,b))\n",
    "print(mul(a,b))\n",
    "print(div(a,b))"
   ]
  },
  {
   "cell_type": "code",
   "execution_count": 140,
   "id": "6fd5d8eb-8f78-4479-a721-49c025dcf509",
   "metadata": {},
   "outputs": [
    {
     "name": "stdin",
     "output_type": "stream",
     "text": [
      " 100\n",
      " 10\n",
      " /\n"
     ]
    },
    {
     "name": "stdout",
     "output_type": "stream",
     "text": [
      "div 10\n"
     ]
    }
   ],
   "source": [
    "#To add,sub,div,multi\n",
    "\n",
    "def add(a,b):\n",
    "    print('sum',a+b)\n",
    "def sub(a,b):   \n",
    "    print('sub',a-b)\n",
    "def mul(a,b):    \n",
    "    print('mul',a*b)\n",
    "def div(a,b):    \n",
    "    print('div',a//b)\n",
    "\n",
    "a=int(input())\n",
    "b=int(input())\n",
    "c=input()\n",
    "if c=='+':\n",
    "    add(a,b)\n",
    "if c== '-':\n",
    "    sub(a,b)\n",
    "if c=='*':\n",
    "    mul(a,b)\n",
    "if c=='/':\n",
    "    div(a,b)"
   ]
  },
  {
   "cell_type": "code",
   "execution_count": 23,
   "id": "e93f89ce-e138-4c43-8bb4-a5596b6bb6cc",
   "metadata": {},
   "outputs": [
    {
     "name": "stdin",
     "output_type": "stream",
     "text": [
      " 2\n",
      " 1\n"
     ]
    },
    {
     "name": "stdout",
     "output_type": "stream",
     "text": [
      "Max is: 2\n"
     ]
    }
   ],
   "source": [
    "#to find the max value\n",
    "\n",
    "def max_value(a, b):\n",
    "    return max(a, b)\n",
    "a=int(input())\n",
    "b=int(input())\n",
    "print(\"Max is:\", max_value(a,b))"
   ]
  },
  {
   "cell_type": "code",
   "execution_count": 11,
   "id": "3135d893-531d-4764-840e-2336927c9d6e",
   "metadata": {},
   "outputs": [
    {
     "name": "stdin",
     "output_type": "stream",
     "text": [
      " 1\n",
      " 1\n"
     ]
    },
    {
     "name": "stdout",
     "output_type": "stream",
     "text": [
      "a is Equal to b\n"
     ]
    }
   ],
   "source": [
    "#to check the equality\n",
    "\n",
    "def equality(a,b):\n",
    "    if a==b:\n",
    "        print(\"a is Equal to b\")\n",
    "    else:\n",
    "        print(\"a is not equal to b\")\n",
    "a=int(input())\n",
    "b=int(input())\n",
    "equality(a,b)"
   ]
  },
  {
   "cell_type": "code",
   "execution_count": 21,
   "id": "14649602-d17c-47d9-b248-d3a7cbfbff6c",
   "metadata": {},
   "outputs": [
    {
     "name": "stdin",
     "output_type": "stream",
     "text": [
      " gan\n"
     ]
    },
    {
     "name": "stdout",
     "output_type": "stream",
     "text": [
      "it is not palindrome\n"
     ]
    }
   ],
   "source": [
    "#To check whether the given string is palindrome or not\n",
    "\n",
    "def palindrome(a):\n",
    "    if a==a[::-1]:\n",
    "        print('it is palindrome')\n",
    "    else:\n",
    "        print('it is not palindrome')\n",
    "a=input()\n",
    "palindrome(a)"
   ]
  },
  {
   "cell_type": "code",
   "execution_count": 41,
   "id": "d1cc4f74-9b53-4509-aab8-353047a431df",
   "metadata": {},
   "outputs": [
    {
     "name": "stdin",
     "output_type": "stream",
     "text": [
      "Enter the number of value: 3\n",
      "Enter the value: 4\n",
      "Enter the value: 5\n",
      "Enter the value: 6\n"
     ]
    },
    {
     "name": "stdout",
     "output_type": "stream",
     "text": [
      "[1, 2, 3, 4, 5, 6]\n"
     ]
    }
   ],
   "source": [
    "#to add element and view the list\n",
    "\n",
    "def add_to_list(n):\n",
    "    for i in range(1,n+1):\n",
    "        m=int(input('Enter the value:'))\n",
    "        list.append(m)\n",
    "    print(list)\n",
    "list=[1,2,3]\n",
    "n=int(input('Enter the number of value:'))\n",
    "add_to_list(n)"
   ]
  },
  {
   "cell_type": "code",
   "execution_count": 16,
   "id": "f7c0c30e-3064-42dc-853b-1fbdab3da6b0",
   "metadata": {},
   "outputs": [
    {
     "name": "stdin",
     "output_type": "stream",
     "text": [
      " a\n"
     ]
    },
    {
     "name": "stdout",
     "output_type": "stream",
     "text": [
      "it is vowel\n"
     ]
    }
   ],
   "source": [
    "#To check whether the given input is vowel or not\n",
    "\n",
    "def vowel(b):\n",
    "    a=['a','e','i','o','u','A','E','O','I','U']\n",
    "    if b in a:\n",
    "        print('it is vowel')\n",
    "    else:\n",
    "        print('it is not a vowel')\n",
    "a=input()\n",
    "vowel(a)"
   ]
  },
  {
   "cell_type": "markdown",
   "id": "dca36dfb-df5b-4c0e-9fd8-4c87f19dafee",
   "metadata": {},
   "source": [
    "## Recursion"
   ]
  },
  {
   "cell_type": "markdown",
   "id": "0bd3d6ce-ea1b-41d7-8267-490114327442",
   "metadata": {},
   "source": [
    "* Recursion refers to the process where a function calls itself in order to solve a problem.\n",
    "* Recursive functions are often used for problems that can be broken down into smaller, similar sub-problems."
   ]
  },
  {
   "cell_type": "code",
   "execution_count": 80,
   "id": "6170a0d7-c9a0-4ea7-973e-0383dece848d",
   "metadata": {},
   "outputs": [
    {
     "name": "stdout",
     "output_type": "stream",
     "text": [
      "120\n"
     ]
    }
   ],
   "source": [
    "#Recursive Implementation in fibonacci\n",
    "\n",
    "def factorial(n):\n",
    "    if n == 0:\n",
    "        return 1\n",
    "    else:\n",
    "        return n * factorial(n - 1)\n",
    "\n",
    "print(factorial(5))"
   ]
  },
  {
   "cell_type": "code",
   "execution_count": 82,
   "id": "f0825c78-9241-428b-96fc-e9903eab6a16",
   "metadata": {},
   "outputs": [
    {
     "name": "stdout",
     "output_type": "stream",
     "text": [
      "13\n"
     ]
    }
   ],
   "source": [
    "#Recursive Implementation in fibonacci\n",
    "\n",
    "def fibonacci(n):\n",
    "    if n == 0:\n",
    "        return 0\n",
    "    elif n == 1:\n",
    "        return 1\n",
    "    else:\n",
    "        return fibonacci(n - 1) + fibonacci(n - 2)\n",
    "\n",
    "print(fibonacci(7))  \n"
   ]
  },
  {
   "cell_type": "markdown",
   "id": "93121821-9574-4e3d-9fc5-e6127fd052f2",
   "metadata": {},
   "source": [
    "## 50 Questions & Answers "
   ]
  },
  {
   "cell_type": "code",
   "execution_count": 94,
   "id": "b270110b-d400-4015-ae01-0d1cbfeef1c7",
   "metadata": {},
   "outputs": [
    {
     "name": "stdout",
     "output_type": "stream",
     "text": [
      "2002  2009  2016  2023  2037  2044  2051  2058  2072  2079  2086  2093  2107  2114  2121  2128  2142  2149  2156  2163  2177  2184  2191  2198  2212  2219  2226  2233  2247  2254  2261  2268  2282  2289  2296  2303  2317  2324  2331  2338  2352  2359  2366  2373  2387  2394  2401  2408  2422  2429  2436  2443  2457  2464  2471  2478  2492  2499 \n"
     ]
    }
   ],
   "source": [
    "#Question 1\n",
    "#Write a program which will find all such numbers which are divisible by 7 but are not a multiple of 5,\n",
    "#between 2000 and 2500 (both included).The numbers obtained should be printed in a comma-separated \n",
    "#sequence on a single line.\n",
    "\n",
    "for i in range(2000, 2501):\n",
    "    if i % 7 == 0 and i % 5 != 0:\n",
    "        print(i, end=\"  \")\n",
    "print(\"\\b\")"
   ]
  },
  {
   "cell_type": "code",
   "execution_count": 88,
   "id": "2fd4caa8-3362-4f40-ab1a-27dfa92143df",
   "metadata": {},
   "outputs": [
    {
     "name": "stdin",
     "output_type": "stream",
     "text": [
      " 8\n"
     ]
    },
    {
     "name": "stdout",
     "output_type": "stream",
     "text": [
      "40320\n"
     ]
    }
   ],
   "source": [
    "#Question 2\n",
    "#Write a program which can compute the factorial of a given numbers.\n",
    "#The results should be printed in a comma-separated sequence on a single line.\n",
    "#Suppose the following input is supplied to the program: 8 Then, the output should be:40320\n",
    "\n",
    "n = int(input())  \n",
    "fact = 1\n",
    "for i in range(1, n + 1):\n",
    "    fact = fact * i\n",
    "print(fact)"
   ]
  },
  {
   "cell_type": "code",
   "execution_count": 78,
   "id": "b9adf4e9-278d-4682-9c1a-e9fe522d3e9f",
   "metadata": {},
   "outputs": [
    {
     "name": "stdin",
     "output_type": "stream",
     "text": [
      " 8\n"
     ]
    },
    {
     "name": "stdout",
     "output_type": "stream",
     "text": [
      "{1: 1, 2: 4, 3: 9, 4: 16, 5: 25, 6: 36, 7: 49, 8: 64}\n"
     ]
    }
   ],
   "source": [
    "#Question 3\n",
    "'''With a given integral number n, write a program to generate a dictionary \n",
    "that contains (i, i x i) such that is an integral number between 1 and n (both included).\n",
    "and then the program should print the dictionary.\n",
    "Suppose the following input is supplied to the program: 8'''\n",
    "#Then, the output should be:\n",
    "#{1: 1, 2: 4, 3: 9, 4: 16, 5: 25, 6: 36, 7: 49, 8: 64}\n",
    "\n",
    "#Using For loop\n",
    "n = int(input())\n",
    "ans = {}\n",
    "for i in range(1, n + 1):\n",
    "    ans[i] = i * i\n",
    "print(ans)"
   ]
  },
  {
   "cell_type": "code",
   "execution_count": 11,
   "id": "6855e278-b4d0-4d11-a630-aecd4b8b880d",
   "metadata": {},
   "outputs": [
    {
     "name": "stdin",
     "output_type": "stream",
     "text": [
      " 34,67,55,33,12,98\n"
     ]
    },
    {
     "name": "stdout",
     "output_type": "stream",
     "text": [
      "['34', '67', '55', '33', '12', '98']\n",
      "('34', '67', '55', '33', '12', '98')\n"
     ]
    }
   ],
   "source": [
    "#Question 4\n",
    "#Write a program which accepts a sequence of comma-separated numbers from console and generate\n",
    "#a list and a tuple which contains every number.Suppose the following input is supplied to the program:\n",
    "#34,67,55,33,12,98\n",
    "#Then, the output should be:\n",
    "#['34', '67', '55', '33', '12', '98'] ('34', '67', '55', '33', '12', '98')\n",
    "\n",
    "lst = input().split(\",\")\n",
    "tpl = tuple(lst)\n",
    "print(lst)\n",
    "print(tpl)"
   ]
  },
  {
   "cell_type": "code",
   "execution_count": 7,
   "id": "e62c8f97-31ab-4296-91bc-6955d986f70e",
   "metadata": {},
   "outputs": [
    {
     "name": "stdin",
     "output_type": "stream",
     "text": [
      " 100,150,180\n"
     ]
    },
    {
     "name": "stdout",
     "output_type": "stream",
     "text": [
      "18,22,24\n"
     ]
    }
   ],
   "source": [
    "#Question 5\n",
    "#Write a program that calculates and prints the value according to the given formula:\n",
    "#Q = Square root of [(2 _ C _ D)/H]\n",
    "#Following are the fixed values of C and H:\n",
    "#C is 50. H is 30.\n",
    "#D is the variable whose values should be input to your program in a comma-separated sequence.For example Let us assume the following comma separated input sequence is given to the program:\n",
    "#100,150,180\n",
    "#The output of the program should be:\n",
    "#18,22,24\n",
    "\n",
    "from math import sqrt\n",
    "C, H = 50, 30\n",
    "def calc(D):\n",
    "    return sqrt((2 * C * D) / H)\n",
    "D = input().split(\",\")  \n",
    "D = [\n",
    "    str(round(calc(int(i)))) for i in D\n",
    "]  # using comprehension method. It works in order of the previous code\n",
    "print(\",\".join(D))\n",
    "\n"
   ]
  },
  {
   "cell_type": "code",
   "execution_count": 13,
   "id": "3fe02c83-daa8-4b38-bc61-cbade24d8457",
   "metadata": {},
   "outputs": [
    {
     "name": "stdin",
     "output_type": "stream",
     "text": [
      " 3,5\n"
     ]
    },
    {
     "name": "stdout",
     "output_type": "stream",
     "text": [
      "[[0, 0, 0, 0, 0], [0, 1, 2, 3, 4], [0, 2, 4, 6, 8]]\n"
     ]
    }
   ],
   "source": [
    "#Question 6\n",
    "#Write a program which takes 2 digits, X,Y as input and generates a 2-dimensional array. The element value in the i-th row and j-th column of the array should be i _ j.*\n",
    "#Note: i=0,1.., X-1; j=0,1,¡­Y-1. Suppose the following inputs are given to the program: 3,5\n",
    "#Then, the output of the program should be:\n",
    "#[[0, 0, 0, 0, 0], [0, 1, 2, 3, 4], [0, 2, 4, 6, 8]]\n",
    "\n",
    "x, y = map(int, input().split(\",\"))\n",
    "lst = []\n",
    "for i in range(x):\n",
    "    tmp = []\n",
    "    for j in range(y):\n",
    "        tmp.append(i * j)\n",
    "    lst.append(tmp)\n",
    "print(lst)"
   ]
  },
  {
   "cell_type": "code",
   "execution_count": 9,
   "id": "5f8f6e5c-b83d-40f6-83c1-c959fba74e49",
   "metadata": {},
   "outputs": [
    {
     "name": "stdin",
     "output_type": "stream",
     "text": [
      " without, hello,bag,world\n"
     ]
    },
    {
     "name": "stdout",
     "output_type": "stream",
     "text": [
      " hello,bag,without,world\n"
     ]
    }
   ],
   "source": [
    "#Question 7\n",
    "'''Write a program that accepts a comma separated sequence of words as input and prints the words in a comma-separated sequence after sorting them alphabetically.\n",
    "Suppose the following input is supplied to the program:\n",
    "without,hello,bag,world\n",
    "Then, the output should be:\n",
    "bag,hello,without,world'''\n",
    "\n",
    "lst = input().split(\",\")\n",
    "lst.sort()\n",
    "print(\",\".join(lst))\n"
   ]
  },
  {
   "cell_type": "code",
   "execution_count": 104,
   "id": "c1f429a7-d12d-4bbe-b231-8251b0a0e920",
   "metadata": {},
   "outputs": [
    {
     "name": "stdin",
     "output_type": "stream",
     "text": [
      " Hello world\n",
      " Practice makes perfect\n",
      " \n"
     ]
    },
    {
     "name": "stdout",
     "output_type": "stream",
     "text": [
      "HELLO WORLD\n",
      "PRACTICE MAKES PERFECT\n"
     ]
    }
   ],
   "source": [
    "#Question 8\n",
    "#Write a program that accepts sequence of lines as input and \n",
    "#prints the lines after making all characters in the sentence capitalized.\n",
    "#Suppose the following input is supplied to the program:\n",
    "#Hello world\n",
    "#Practice makes perfect\n",
    "#Then, the output should be:\n",
    "#HELLO WORLD\n",
    "#PRACTICE MAKES PERFECT\n",
    "\n",
    "\n",
    "lst = []\n",
    "while (input):\n",
    "    x = input()\n",
    "    if len(x) == 0:\n",
    "        break\n",
    "    lst.append(x.upper())\n",
    "for line in lst:\n",
    "    print(line)"
   ]
  },
  {
   "cell_type": "code",
   "execution_count": 106,
   "id": "993b1a74-ceaf-4dac-87db-013eb79edb6f",
   "metadata": {},
   "outputs": [
    {
     "name": "stdin",
     "output_type": "stream",
     "text": [
      " hello world!123\n"
     ]
    },
    {
     "name": "stdout",
     "output_type": "stream",
     "text": [
      "LETTERS 10\n",
      "DIGITS 3\n"
     ]
    }
   ],
   "source": [
    "#Question 9\n",
    "'''Write a program that accepts a sentence and calculate the number of letters and digits.\n",
    "Suppose the following input is supplied to the program:\n",
    "hello world! 123\n",
    "Then, the output should be:\n",
    "LETTERS 10\n",
    "DIGITS'''\n",
    "\n",
    "word = input()\n",
    "letter, digit = 0, 0\n",
    "for i in word:\n",
    "    if (\"a\" <= i and i <= \"z\") or (\"A\" <= i and i <= \"Z\"):\n",
    "        letter += 1\n",
    "    if \"0\" <= i and i <= \"9\":\n",
    "        digit += 1\n",
    "print(\"LETTERS {0}\\nDIGITS {1}\".format(letter, digit))"
   ]
  },
  {
   "cell_type": "code",
   "execution_count": 108,
   "id": "63aa589e-29b3-418c-9326-65438f7ff12a",
   "metadata": {},
   "outputs": [
    {
     "name": "stdin",
     "output_type": "stream",
     "text": [
      " Hello world\n"
     ]
    },
    {
     "name": "stdout",
     "output_type": "stream",
     "text": [
      "UPPER CASE 1\n",
      "LOWER CASE 9\n"
     ]
    }
   ],
   "source": [
    "#Question 10\n",
    "'''Write a program that accepts a sentence and calculate the number of upper case letters and lower case letters.\n",
    "Suppose the following input is supplied to the program:\n",
    "Hello world!\n",
    "Then, the output should be:\n",
    "UPPER CASE 1\n",
    "LOWER CASE 9'''\n",
    "\n",
    "word = input()\n",
    "upper, lower = 0, 0\n",
    "for i in word:\n",
    "    if \"a\" <= i and i <= \"z\":\n",
    "        lower += 1\n",
    "    if \"A\" <= i and i <= \"Z\":\n",
    "        upper += 1\n",
    "print(\"UPPER CASE {0}\\nLOWER CASE {1}\".format(upper, lower))"
   ]
  },
  {
   "cell_type": "code",
   "execution_count": 50,
   "id": "30cdfadd-d429-4e93-bc37-3c7ab4a68051",
   "metadata": {},
   "outputs": [
    {
     "name": "stdin",
     "output_type": "stream",
     "text": [
      " 9\n"
     ]
    },
    {
     "name": "stdout",
     "output_type": "stream",
     "text": [
      "11106\n"
     ]
    }
   ],
   "source": [
    "#Question 11\n",
    "'''Write a program that computes the value of a+aa+aaa+aaaa with a given digit as the value of a.\n",
    "Suppose the following input is supplied to the program:\n",
    "9\n",
    "Then, the output should be:\n",
    "11106'''\n",
    "\n",
    "a = input()\n",
    "total = int(a) + int(2*a) + int(3*a) + int(4*a)  # N*a=Na, for example  a=\"23\", 2*a=\"2323\",3*a=\"232323\"\n",
    "print(total)"
   ]
  },
  {
   "cell_type": "code",
   "execution_count": 54,
   "id": "b9c95514-4574-44d1-957a-8558866b975c",
   "metadata": {},
   "outputs": [
    {
     "name": "stdin",
     "output_type": "stream",
     "text": [
      " 2\n"
     ]
    },
    {
     "name": "stdout",
     "output_type": "stream",
     "text": [
      "4\n"
     ]
    }
   ],
   "source": [
    "#Question 12\n",
    "#Write a method which can calculate square value of number\n",
    "\n",
    "n = int(input())\n",
    "print(n ** 2)"
   ]
  },
  {
   "cell_type": "code",
   "execution_count": 58,
   "id": "e20adffb-0279-4dd0-8671-89cbadb6bce6",
   "metadata": {},
   "outputs": [
    {
     "name": "stdout",
     "output_type": "stream",
     "text": [
      "3\n"
     ]
    }
   ],
   "source": [
    "#Question 13\n",
    "#Define a function which can compute the sum of two numbers.\n",
    "\n",
    "sum = lambda n1, n2: n1 + n2  # here lambda is use to define little function as sum\n",
    "print(sum(1, 2))"
   ]
  },
  {
   "cell_type": "code",
   "execution_count": 15,
   "id": "897764dc-c77b-4c24-b8b5-3b7265638ae8",
   "metadata": {},
   "outputs": [
    {
     "name": "stdout",
     "output_type": "stream",
     "text": [
      "10\n",
      "<class 'str'>\n"
     ]
    }
   ],
   "source": [
    "#Question 14\n",
    "#Define a function that can convert a integer into a string and print it in console.\n",
    "\n",
    "conv = lambda x: str(x)\n",
    "n = conv(10)\n",
    "print(n)\n",
    "print(type(n))"
   ]
  },
  {
   "cell_type": "code",
   "execution_count": 68,
   "id": "1cdce126-ae77-4a23-b2c6-134911669385",
   "metadata": {},
   "outputs": [
    {
     "name": "stdout",
     "output_type": "stream",
     "text": [
      "1045\n"
     ]
    }
   ],
   "source": [
    "#Question 15\n",
    "#Define a function that can accept two strings as input and concatenate them and then print it in console.\n",
    "\n",
    "sum = lambda s1, s2: s1 + s2\n",
    "print(sum(\"10\", \"45\"))"
   ]
  },
  {
   "cell_type": "code",
   "execution_count": 6,
   "id": "b42a7cfd-3fb5-48f9-ab3c-4c3f5de2a84d",
   "metadata": {},
   "outputs": [
    {
     "name": "stdout",
     "output_type": "stream",
     "text": [
      "{1: 1, 2: 4, 3: 9, 4: 16, 5: 25, 6: 36, 7: 49, 8: 64, 9: 81, 10: 100, 11: 121, 12: 144, 13: 169, 14: 196, 15: 225, 16: 256, 17: 289, 18: 324, 19: 361, 20: 400}\n"
     ]
    }
   ],
   "source": [
    "#Question 16\n",
    "#Define a function which can print a dictionary where the keys are numbers \n",
    "#between 1 and 20 (both included) and the values are square of keys.\n",
    "\n",
    "def printDict():\n",
    "    dict = {i: i ** 2 for i in range(1, 21)}  # Using comprehension method and\n",
    "    print(dict)\n",
    "printDict()"
   ]
  },
  {
   "cell_type": "code",
   "execution_count": 110,
   "id": "ced15b8a-8e9a-432f-b3b5-e51f7d2e4ac1",
   "metadata": {},
   "outputs": [
    {
     "name": "stdout",
     "output_type": "stream",
     "text": [
      "45\n"
     ]
    }
   ],
   "source": [
    "#Question 17\n",
    "#How can you find the second largest number in a list?\n",
    "\n",
    "def second_largest(lst):\n",
    "    first, second = float('-inf'), float('-inf')\n",
    "    for num in lst:\n",
    "        if num > first:\n",
    "            first, second = num, first\n",
    "        elif first > num > second:\n",
    "            second = num\n",
    "    return second\n",
    "\n",
    "# Example\n",
    "lst = [10, 20, 4, 45, 99]\n",
    "print(second_largest(lst))"
   ]
  },
  {
   "cell_type": "code",
   "execution_count": 12,
   "id": "2d0f29c8-6b61-4f80-9bb5-dc8724b5d803",
   "metadata": {},
   "outputs": [
    {
     "name": "stdout",
     "output_type": "stream",
     "text": [
      "1\n",
      "4\n",
      "9\n",
      "16\n",
      "25\n"
     ]
    }
   ],
   "source": [
    "#Question 18\n",
    "#Define a function which can generate and print a list \n",
    "#where the values are square of numbers between 1 and 20 (both included).\n",
    "\n",
    "def printList():\n",
    "    lst = [i ** 2 for i in range(1, 21)]\n",
    "    for i in range(5):\n",
    "        print(lst[i])\n",
    "printList()"
   ]
  },
  {
   "cell_type": "code",
   "execution_count": 112,
   "id": "8cfa1d85-6512-46ec-9a04-6058563bee0d",
   "metadata": {},
   "outputs": [
    {
     "name": "stdin",
     "output_type": "stream",
     "text": [
      "Please type something. -->  yes\n"
     ]
    },
    {
     "name": "stdout",
     "output_type": "stream",
     "text": [
      "Yes\n"
     ]
    }
   ],
   "source": [
    "#Question 19\n",
    "#Write a program which accepts a string as input to print \"Yes\" if the string is \"yes\" or \"YES\" or \"Yes\", otherwise print \"No\".\n",
    "\n",
    "text = input(\"Please type something. --> \")\n",
    "if text == \"yes\" or text == \"YES\" or text == \"Yes\":\n",
    "    print(\"Yes\")\n",
    "else:\n",
    "    print(\"No\")"
   ]
  },
  {
   "cell_type": "code",
   "execution_count": 22,
   "id": "ac6ace8e-a0f7-42bf-bef0-e8d5154482d7",
   "metadata": {},
   "outputs": [
    {
     "name": "stdout",
     "output_type": "stream",
     "text": [
      "[2, 4, 6, 8, 10, 12, 14, 16, 18, 20]\n"
     ]
    }
   ],
   "source": [
    "#Question 20\n",
    "#Write a program which can filter() to make a list whose elements are even number between 1 and 20 (both included).\n",
    "\n",
    "def even(x):\n",
    "    return x % 2 == 0\n",
    "evenNumbers = filter(even, range(1, 21))#filter(function,iterable)\n",
    "print(list(evenNumbers))"
   ]
  },
  {
   "cell_type": "code",
   "execution_count": 24,
   "id": "ba2be654-acb0-4ab7-bbe2-e797c2bf4d5a",
   "metadata": {},
   "outputs": [
    {
     "name": "stdout",
     "output_type": "stream",
     "text": [
      "[1, 4, 9, 16, 25, 36, 49, 64, 81, 100, 121, 144, 169, 196, 225, 256, 289, 324, 361, 400]\n"
     ]
    }
   ],
   "source": [
    "#Question 21\n",
    "#Write a program which can map() to make a list whose elements are square of numbers between 1 and 20 (both included).\n",
    "\n",
    "def sqr(x):\n",
    "    return x * x\n",
    "squaredNumbers = list(map(sqr, range(1, 21)))\n",
    "print(squaredNumbers)"
   ]
  },
  {
   "cell_type": "code",
   "execution_count": 114,
   "id": "1845a913-2ac6-487c-a2c8-373ff7d587f4",
   "metadata": {},
   "outputs": [
    {
     "name": "stdin",
     "output_type": "stream",
     "text": [
      " 5\n"
     ]
    },
    {
     "name": "stdout",
     "output_type": "stream",
     "text": [
      "3.55\n"
     ]
    }
   ],
   "source": [
    "#Question 22\n",
    "'''Write a program to compute 1/2+2/3+3/4+...+n/n+1 with a given n input by console (n>0).\n",
    "Example: If the following n is given as input to the program:\n",
    "5\n",
    "Then, the output of the program should be:\n",
    "3.55\n",
    "In case of input data being supplied to the question, it should be assumed to be a console input.'''\n",
    "\n",
    "\n",
    "n = int(input())\n",
    "sum = 0\n",
    "for i in range(1, n + 1):\n",
    "    sum += i / (i + 1)\n",
    "print(round(sum, 2))  # rounded to 2 decimal point"
   ]
  },
  {
   "cell_type": "code",
   "execution_count": 17,
   "id": "eabb3e1f-cf38-4adf-94b6-18f898a06b25",
   "metadata": {},
   "outputs": [
    {
     "name": "stdin",
     "output_type": "stream",
     "text": [
      " 10\n"
     ]
    },
    {
     "name": "stdout",
     "output_type": "stream",
     "text": [
      "0,2,4,6,8,10\n"
     ]
    }
   ],
   "source": [
    "#Question 23\n",
    "'''Please write a program using generator to print the even numbers between 0 and n in comma separated form while n is input by console.\n",
    "Example: If the following n is given as input to the program:\n",
    "10\n",
    "Then, the output of the program should be:\n",
    "0,2,4,6,8,10\n",
    "In case of input data being supplied to the question, it should be assumed to be a console input.'''\n",
    "\n",
    "n = int(input())\n",
    "\n",
    "for i in range(0, n + 1, 2):\n",
    "    if i < n - 1:\n",
    "        print(i, end=\",\")\n",
    "    else:\n",
    "        print(i)\n",
    "        "
   ]
  },
  {
   "cell_type": "code",
   "execution_count": 130,
   "id": "c3360bb4-53d3-406a-bd9c-5596b3603fa3",
   "metadata": {},
   "outputs": [
    {
     "name": "stdout",
     "output_type": "stream",
     "text": [
      "10\n"
     ]
    }
   ],
   "source": [
    "#Question 24\n",
    "#Please write a program to output a random even number between 0 and 10 inclusive using random module and list comprehension.\n",
    "\n",
    "import random\n",
    "resp = [i for i in range(0, 11, 2)]\n",
    "print(random.choice(resp))"
   ]
  },
  {
   "cell_type": "code",
   "execution_count": 132,
   "id": "7e781869-56a4-47fc-8e21-ceff999990c6",
   "metadata": {},
   "outputs": [
    {
     "name": "stdout",
     "output_type": "stream",
     "text": [
      "6.198883056640625e-05\n"
     ]
    }
   ],
   "source": [
    "#Question 25\n",
    "#Please write a program to print the running time of execution of \"1+1\" for 100 times.\n",
    "\n",
    "\n",
    "import time\n",
    "before = time.time()\n",
    "for i in range(100):\n",
    "    x = 1 + 1\n",
    "after = time.time()\n",
    "execution_time = after - before\n",
    "print(execution_time)\n"
   ]
  },
  {
   "cell_type": "code",
   "execution_count": 142,
   "id": "6faa6400-95ec-425d-9b89-fe8d1cfc12b2",
   "metadata": {},
   "outputs": [
    {
     "name": "stdout",
     "output_type": "stream",
     "text": [
      "[8, 3, 6, 7]\n"
     ]
    }
   ],
   "source": [
    "#Question 26\n",
    "#Please write a program to shuffle and print the list [3,6,7,8]\n",
    "\n",
    "import random\n",
    "\n",
    "lst = [3, 6, 7, 8]\n",
    "random.shuffle(lst)\n",
    "print(lst)\n"
   ]
  },
  {
   "cell_type": "code",
   "execution_count": 144,
   "id": "8cc3b2f7-83df-437e-9f40-cb1c59afd992",
   "metadata": {},
   "outputs": [
    {
     "name": "stdout",
     "output_type": "stream",
     "text": [
      "[24, 70, 120]\n"
     ]
    }
   ],
   "source": [
    "#Question 27\n",
    "#By using list comprehension,\n",
    "#please write a program to print the list after removing the 0th, 2nd, 4th,6th numbers in [12,24,35,70,88,120,155]\n",
    "\n",
    "\n",
    "li = [12, 24, 35, 70, 88, 120, 155]\n",
    "li = [li[i] for i in range(len(li)) if i % 2 != 0]\n",
    "print(li)"
   ]
  },
  {
   "cell_type": "code",
   "execution_count": 190,
   "id": "d58a6c26-4e6f-4252-b979-cd2f30e96dd1",
   "metadata": {},
   "outputs": [
    {
     "name": "stdout",
     "output_type": "stream",
     "text": [
      "[12, 24, 35, 120, 155]\n"
     ]
    }
   ],
   "source": [
    "#Question 28\n",
    "#By using list comprehension,\n",
    "#please write a program to print the list after removing the 2nd - 4th numbers in [12,24,35,70,88,120,155]\n",
    "\n",
    "li = [12, 24, 35, 70, 88, 120, 155]\n",
    "li = [li[i] for i in range(len(li)) if i < 3 or 4 < i]\n",
    "print(li)"
   ]
  },
  {
   "cell_type": "code",
   "execution_count": 196,
   "id": "88988c53-cc56-4926-8cf9-315336708a0e",
   "metadata": {},
   "outputs": [
    {
     "name": "stdout",
     "output_type": "stream",
     "text": [
      "[12, 35, 24, 88, 120, 155]\n"
     ]
    }
   ],
   "source": [
    "#Question 29\n",
    "#By using list comprehension, \n",
    "#please write a program to print the list after removing the value 24 in [12,24,35,24,88,120,155].\n",
    "\n",
    "li = [12, 24, 35, 24, 88, 120, 155]\n",
    "li.remove(24)  # this will remove only the first occurrence of 24\n",
    "print(li)"
   ]
  },
  {
   "cell_type": "code",
   "execution_count": 202,
   "id": "4325045e-0534-4b25-b013-ca253f6647bd",
   "metadata": {},
   "outputs": [
    {
     "name": "stdout",
     "output_type": "stream",
     "text": [
      "{35}\n"
     ]
    }
   ],
   "source": [
    "#Question 30\n",
    "#With two given lists [1,3,6,78,35,55] and [12,24,35,24,88,120,155], \n",
    "#write a program to make a list whose elements are intersection of the above given lists.\n",
    "\n",
    "list1 = [1, 3, 6, 78, 35, 55]\n",
    "list2 = [12, 24, 35, 24, 88, 120, 155]\n",
    "set1 = set(list1)\n",
    "set2 = set(list2)\n",
    "intersection = set1 & set2\n",
    "print(intersection)"
   ]
  },
  {
   "cell_type": "code",
   "execution_count": 204,
   "id": "48c497ac-d3fb-4b24-bf9f-f7efb4a25730",
   "metadata": {},
   "outputs": [
    {
     "name": "stdout",
     "output_type": "stream",
     "text": [
      "[12, 35, 24, 88, 120, 155]\n"
     ]
    }
   ],
   "source": [
    "#Question 31\n",
    "#With a given list [12,24,35,24,88,120,155,88,120,155],\n",
    "#write a program to print this list after removing all duplicate values with original order reserved\n",
    "\n",
    "li = [12, 24, 35, 24, 88, 120, 155, 88, 120, 155]\n",
    "for i in li:\n",
    "    if li.count(i) > 1:\n",
    "        li.remove(i)\n",
    "print(li)"
   ]
  },
  {
   "cell_type": "code",
   "execution_count": 19,
   "id": "c8bb1cc9-d307-46d0-8e14-4bc1df75ad92",
   "metadata": {},
   "outputs": [
    {
     "name": "stdout",
     "output_type": "stream",
     "text": [
      "Helloworld\n"
     ]
    }
   ],
   "source": [
    "#Question 32\n",
    "'''Please write a program which accepts a string from console and print the characters that have even indexes.\n",
    "Example: If the following string is given as input to the program:\n",
    "H1e2l3l4o5w6o7r8l9d\n",
    "Then, the output of the program should be:\n",
    "Helloworld'''\n",
    "\n",
    "s = \"H1e2l3l4o5w6o7r8l9d\"\n",
    "s = [s[i] for i in range(len(s)) if i % 2 == 0]\n",
    "print(\"\".join(s))"
   ]
  },
  {
   "cell_type": "code",
   "execution_count": 27,
   "id": "de15aee1-54d5-4981-9434-6e3b7d3a8853",
   "metadata": {},
   "outputs": [
    {
     "name": "stdin",
     "output_type": "stream",
     "text": [
      "Enter num (0 to stop):  5\n",
      "Enter num (0 to stop):  2\n",
      "Enter num (0 to stop):  3\n",
      "Enter num (0 to stop):  6\n",
      "Enter num (0 to stop):  6\n",
      "Enter num (0 to stop):  5\n",
      "Enter num (0 to stop):  0\n"
     ]
    },
    {
     "name": "stdout",
     "output_type": "stream",
     "text": [
      "[2, 3, 5, 6]\n",
      "The runner-up is 5\n"
     ]
    }
   ],
   "source": [
    "#Question 33\n",
    "'''Given the participants' score sheet for your University Sports Day,\n",
    "you are required to find the runner-up score.You are given scores.\n",
    "Store them in a list and find the score of the runner-up.\n",
    "If the following string is given as input to the program:\n",
    "5 2 3 6 6 5\n",
    "Then, the output of the program should be:\n",
    "5'''\n",
    "\n",
    "L = []\n",
    "\n",
    "while True:\n",
    "    num = int(input(\"Enter num (0 to stop): \"))\n",
    "    if num == 0:\n",
    "        break\n",
    "    L.append(num)\n",
    "\n",
    "# Remove duplicates and sort\n",
    "L1 = list(set(L))\n",
    "L2 = sorted(L1)\n",
    "\n",
    "# Display sorted unique numbers\n",
    "print(L2)\n",
    "\n",
    "# Print the runner-up if there are at least two unique numbers\n",
    "if len(L2) > 1:\n",
    "    print(f\"The runner-up is {L2[-2]}\")\n",
    "else:\n",
    "    print(\"Not enough unique numbers to determine a runner-up.\")"
   ]
  },
  {
   "cell_type": "code",
   "execution_count": 29,
   "id": "1cbdd909-7583-4248-a232-d309eae73e80",
   "metadata": {},
   "outputs": [
    {
     "name": "stdin",
     "output_type": "stream",
     "text": [
      " 08 05 2015\n"
     ]
    },
    {
     "name": "stdout",
     "output_type": "stream",
     "text": [
      "WEDNESDAY\n"
     ]
    }
   ],
   "source": [
    "#Question 34\n",
    "'''You are given a date. Your task is to find what the day is on that date.\n",
    "Input\n",
    "A single line of input containing the space separated month, day and year, respectively, in MM DD YYYY format.\n",
    "08 05 2015\n",
    "Output\n",
    "Output the correct day in capital letters.\n",
    "WEDNESDAY'''\n",
    "\n",
    "import calendar\n",
    "\n",
    "month, day, year = map(int, input().split())\n",
    "\n",
    "dayId = calendar.weekday(year, month, day)\n",
    "print(calendar.day_name[dayId].upper())"
   ]
  },
  {
   "cell_type": "code",
   "execution_count": 31,
   "id": "b2ca6fc6-7ee2-4618-9dee-32d55072faef",
   "metadata": {},
   "outputs": [
    {
     "name": "stdin",
     "output_type": "stream",
     "text": [
      " 5\n"
     ]
    },
    {
     "name": "stdout",
     "output_type": "stream",
     "text": [
      "15\n"
     ]
    }
   ],
   "source": [
    "#Question 35\n",
    "'''Given a number N.Find Sum of 1 to N Using Recursion.\n",
    "Input\n",
    "5\n",
    "Output\n",
    "15'''\n",
    "\n",
    "def rec(n):\n",
    "    if n == 0:\n",
    "        return n\n",
    "    return rec(n - 1) + n\n",
    "\n",
    "n = int(input())\n",
    "sum = rec(n)\n",
    "print(sum)"
   ]
  },
  {
   "cell_type": "code",
   "execution_count": 33,
   "id": "ac162f8a-de21-4801-897c-1d96bc0f6881",
   "metadata": {},
   "outputs": [
    {
     "name": "stdin",
     "output_type": "stream",
     "text": [
      " aabbbccde\n"
     ]
    },
    {
     "name": "stdout",
     "output_type": "stream",
     "text": [
      "b 3\n",
      "a 2\n",
      "c 2\n",
      "d 1\n",
      "e 1\n"
     ]
    }
   ],
   "source": [
    "#Question 36\n",
    "'''You are given a string.Your task is to count the frequency of letters of the string and print the letters in descending order of frequency.\n",
    "If the following string is given as input to the program:\n",
    "aabbbccde\n",
    "Then, the output of the program should be:\n",
    "b 3 a 2 c 2 d 1 e 1'''\n",
    "\n",
    "word = input()\n",
    "dct = {}\n",
    "for i in word:\n",
    "    dct[i] = dct.get(i, 0) + 1\n",
    "\n",
    "dct = sorted(dct.items(), key=lambda x: (-x[1], x[0]))\n",
    "for i in dct:\n",
    "    print(i[0], i[1])"
   ]
  },
  {
   "cell_type": "code",
   "execution_count": 242,
   "id": "c1daefa2-901e-4e4d-bb2b-b7533d8b5068",
   "metadata": {},
   "outputs": [
    {
     "name": "stdin",
     "output_type": "stream",
     "text": [
      " 2\n",
      " 3\n"
     ]
    },
    {
     "name": "stdout",
     "output_type": "stream",
     "text": [
      "[2, 3, 5, 8, 13, 21, 34, 55, 89, 144]\n"
     ]
    }
   ],
   "source": [
    "#Question 37\n",
    "#How can you calculate the nth Fibonacci number using an iterative approach?\n",
    "\n",
    "def fibonacci(n):\n",
    "    a, b = 0, 1\n",
    "    for _ in range(n):\n",
    "        a, b = b, a + b\n",
    "    return a\n",
    "\n",
    "# Example\n",
    "print(fibonacci(10))"
   ]
  },
  {
   "cell_type": "code",
   "execution_count": 11,
   "id": "ed513731-1871-419b-b4e3-8f5ff1b091e0",
   "metadata": {},
   "outputs": [
    {
     "name": "stdout",
     "output_type": "stream",
     "text": [
      "[{'name': 'Doe', 'age': 25}, {'name': 'Jane', 'age': 30}, {'name': 'John', 'age': 45}]\n"
     ]
    }
   ],
   "source": [
    "#Question 38\n",
    "#How do you sort a list of dictionaries by a specific key?\n",
    "\n",
    "data = [{'name': 'John', 'age': 45}, {'name': 'Jane', 'age': 30}, {'name': 'Doe', 'age': 25}]\n",
    "sorted_data = sorted(data, key=lambda x: x['age'])\n",
    "print(sorted_data) "
   ]
  },
  {
   "cell_type": "code",
   "execution_count": 4,
   "id": "540e3985-0f03-41ef-89bd-b46a8be320e3",
   "metadata": {},
   "outputs": [
    {
     "name": "stdout",
     "output_type": "stream",
     "text": [
      "[1, 2, 3, 4, 5]\n"
     ]
    }
   ],
   "source": [
    "#Question 39\n",
    "#How can you remove duplicates from a list while preserving the order?\n",
    "\n",
    "def remove_duplicates(lst):\n",
    "    return list(dict.fromkeys(lst))\n",
    "\n",
    "# Example\n",
    "lst = [1, 2, 2, 3, 4, 4, 5]\n",
    "print(remove_duplicates(lst)) "
   ]
  },
  {
   "cell_type": "code",
   "execution_count": 6,
   "id": "5950bc6a-d4c2-4b04-b46f-0cc6d1469d27",
   "metadata": {},
   "outputs": [
    {
     "name": "stdout",
     "output_type": "stream",
     "text": [
      "{'b': 1, 'a': 3, 'n': 2}\n"
     ]
    }
   ],
   "source": [
    "#Question 40\n",
    "#Write a Python function that counts the number of occurrences of each character in a string.\n",
    "\n",
    "from collections import Counter\n",
    "\n",
    "def char_count(s):\n",
    "    return dict(Counter(s))\n",
    "\n",
    "# Example\n",
    "s = \"banana\"\n",
    "print(char_count(s)) "
   ]
  },
  {
   "cell_type": "code",
   "execution_count": null,
   "id": "d9e1b6cc-ecb0-482f-b345-1352add041f6",
   "metadata": {},
   "outputs": [],
   "source": [
    "#Question 41\n",
    "#How can you merge two dictionaries in Python?\n",
    "\n",
    "dict1 = {'a': 1, 'b': 2}\n",
    "dict2 = {'b': 3, 'c': 4}\n",
    "\n",
    "merged_dict = {**dict1, **dict2}\n",
    "print(merged_dict)"
   ]
  },
  {
   "cell_type": "code",
   "execution_count": 8,
   "id": "08361684-2225-4794-b826-aeaefdf99fb2",
   "metadata": {},
   "outputs": [
    {
     "name": "stdout",
     "output_type": "stream",
     "text": [
      "True\n"
     ]
    }
   ],
   "source": [
    "#Question 42\n",
    "#How can you check if a given string is a valid email address?\n",
    "\n",
    "import re\n",
    "\n",
    "def is_valid_email(email):\n",
    "    pattern = r'^[a-zA-Z0-9._%+-]+@[a-zA-Z0-9.-]+\\.[a-zA-Z]{2,}$'\n",
    "    return re.match(pattern, email) is not None\n",
    "\n",
    "# Example\n",
    "email = \"test@example.com\"\n",
    "print(is_valid_email(email))  # Output: True\n"
   ]
  },
  {
   "cell_type": "code",
   "execution_count": 80,
   "id": "16f7e4d1-12f2-4d4a-825c-12203bbe1f8c",
   "metadata": {},
   "outputs": [
    {
     "name": "stdout",
     "output_type": "stream",
     "text": [
      "2024-08-22 17:21:23.412587\n"
     ]
    }
   ],
   "source": [
    "#Question 43\n",
    "#How can you get the current date and time in Python?\n",
    "\n",
    "from datetime import datetime\n",
    "\n",
    "now = datetime.now()\n",
    "print(now)"
   ]
  },
  {
   "cell_type": "code",
   "execution_count": 12,
   "id": "abef2c1b-47e7-4fbd-aee0-a4e653442107",
   "metadata": {},
   "outputs": [
    {
     "name": "stdout",
     "output_type": "stream",
     "text": [
      "[(2, 1), (3, 2), (1, 3)]\n"
     ]
    }
   ],
   "source": [
    "#Quesition 44\n",
    "#Write a function to sort a list of tuples based on the second element of each tuple.\n",
    "\n",
    "def sort_tuples(lst):\n",
    "    return sorted(lst, key=lambda x: x[1])\n",
    "\n",
    "# Example\n",
    "lst = [(1, 3), (2, 1), (3, 2)]\n",
    "print(sort_tuples(lst))"
   ]
  },
  {
   "cell_type": "code",
   "execution_count": 18,
   "id": "ab11dda4-5857-4642-856e-80703ef66dcf",
   "metadata": {},
   "outputs": [
    {
     "name": "stdout",
     "output_type": "stream",
     "text": [
      "True\n"
     ]
    }
   ],
   "source": [
    "#Question 45\n",
    "#How can you check if a list is sorted in ascending order?\n",
    "\n",
    "def is_sorted(lst):\n",
    "    return lst == sorted(lst)\n",
    "\n",
    "# Example\n",
    "lst = [1, 2, 3, 4]\n",
    "print(is_sorted(lst)) "
   ]
  },
  {
   "cell_type": "code",
   "execution_count": 20,
   "id": "1e9d3061-7e84-4da1-a05f-8fcbee66ba4f",
   "metadata": {},
   "outputs": [
    {
     "name": "stdout",
     "output_type": "stream",
     "text": [
      "[3, 4]\n"
     ]
    }
   ],
   "source": [
    "#Question 46\n",
    "#How can you find the common elements between two lists while preserving their order?\n",
    "\n",
    "def common_elements(lst1, lst2):\n",
    "    return [x for x in lst1 if x in lst2]\n",
    "\n",
    "# Example\n",
    "lst1 = [1, 2, 3, 4]\n",
    "lst2 = [3, 4, 5, 6]\n",
    "print(common_elements(lst1, lst2)) "
   ]
  },
  {
   "cell_type": "code",
   "execution_count": 24,
   "id": "349737d1-4d39-46cc-a33f-eecbbfb106a2",
   "metadata": {},
   "outputs": [
    {
     "name": "stdout",
     "output_type": "stream",
     "text": [
      "3\n"
     ]
    }
   ],
   "source": [
    "#Question 47\n",
    "#How can you count the number of lines in a text file?\n",
    "\n",
    "def count_lines(filename):\n",
    "    with open(filename, 'r') as file:\n",
    "        return sum(1 for line in file)\n",
    "print(count_lines('ABCD.txt'))"
   ]
  },
  {
   "cell_type": "code",
   "execution_count": 26,
   "id": "0f0476a4-a01b-4a72-a81e-3e8454977e89",
   "metadata": {},
   "outputs": [
    {
     "name": "stdout",
     "output_type": "stream",
     "text": [
      "[1, 2, 3, 4, 5, 6]\n"
     ]
    }
   ],
   "source": [
    "#Question 48\n",
    "#Write a function that merges two sorted lists into a single sorted list.\n",
    "\n",
    "def merge_sorted_lists(lst1, lst2):\n",
    "    sorted_list = []\n",
    "    i, j = 0, 0\n",
    "    while i < len(lst1) and j < len(lst2):\n",
    "        if lst1[i] < lst2[j]:\n",
    "            sorted_list.append(lst1[i])\n",
    "            i += 1\n",
    "        else:\n",
    "            sorted_list.append(lst2[j])\n",
    "            j += 1\n",
    "    sorted_list.extend(lst1[i:])\n",
    "    sorted_list.extend(lst2[j:])\n",
    "    return sorted_list\n",
    "\n",
    "# Example\n",
    "lst1 = [1, 3, 5]\n",
    "lst2 = [2, 4, 6]\n",
    "print(merge_sorted_lists(lst1, lst2))  # Output: [1, 2, 3, 4, 5, 6]\n"
   ]
  },
  {
   "cell_type": "code",
   "execution_count": 34,
   "id": "033496a6-1ea1-466a-a846-9a1bf99eb4c1",
   "metadata": {},
   "outputs": [
    {
     "name": "stdout",
     "output_type": "stream",
     "text": [
      "quick\n"
     ]
    }
   ],
   "source": [
    "#Question 49\n",
    "#How can you find the longest word in a string?\n",
    "\n",
    "def longest_word(s):\n",
    "    words = s.split()\n",
    "    return max(words, key=len)\n",
    "\n",
    "# Example\n",
    "s = \"The quick brown foxes jumps over the lazy dog\"\n",
    "print(longest_word(s))  # Output: \"jumps\"\n"
   ]
  },
  {
   "cell_type": "code",
   "execution_count": 87,
   "id": "26b74791-7f67-4918-96b3-818043d25130",
   "metadata": {},
   "outputs": [
    {
     "name": "stdout",
     "output_type": "stream",
     "text": [
      "[1, 2, 3, 4, 5]\n"
     ]
    }
   ],
   "source": [
    "#Question 50\n",
    "#Write a Python program to find all the unique elements in a list.\n",
    "\n",
    "def unique_elements(lst):\n",
    "    return list(set(lst))\n",
    "\n",
    "# Example\n",
    "lst = [1, 2, 2, 3, 4, 4, 5]\n",
    "print(unique_elements(lst))"
   ]
  }
 ],
 "metadata": {
  "kernelspec": {
   "display_name": "Python 3 (ipykernel)",
   "language": "python",
   "name": "python3"
  },
  "language_info": {
   "codemirror_mode": {
    "name": "ipython",
    "version": 3
   },
   "file_extension": ".py",
   "mimetype": "text/x-python",
   "name": "python",
   "nbconvert_exporter": "python",
   "pygments_lexer": "ipython3",
   "version": "3.12.4"
  }
 },
 "nbformat": 4,
 "nbformat_minor": 5
}
